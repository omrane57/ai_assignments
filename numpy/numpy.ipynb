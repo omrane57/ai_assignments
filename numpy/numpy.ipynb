{
 "cells": [
  {
   "cell_type": "markdown",
   "id": "b3ea61ab-2784-4e97-964f-564340c147b9",
   "metadata": {},
   "source": [
    " # 1. Create a 1D array of 20 sequential integers and reshape it into a 4x5 matrix."
   ]
  },
  {
   "cell_type": "code",
   "execution_count": 2,
   "id": "5440d894-7f37-48e3-aee0-186933316a41",
   "metadata": {},
   "outputs": [
    {
     "name": "stdout",
     "output_type": "stream",
     "text": [
      "(20,)\n",
      "(4, 5)\n"
     ]
    }
   ],
   "source": [
    "import numpy as np\n",
    "x=np.array([1,2,3,4,5,6,7,8,9,10,11,12,13,14,15,16,17,18,19,20])\n",
    "print(x.shape)\n",
    "y= x.reshape(4, 5)\n",
    "print(y.shape)"
   ]
  },
  {
   "cell_type": "markdown",
   "id": "00eaffb3-c7b4-4f52-9e04-73b4c3905eb9",
   "metadata": {},
   "source": [
    "# Write the code using np.arange() to get all even numbers between 21 and 70, (70 inclusive)"
   ]
  },
  {
   "cell_type": "code",
   "execution_count": 14,
   "id": "0262c3db-bb98-4c60-a7c2-94342b20ac18",
   "metadata": {},
   "outputs": [
    {
     "name": "stdout",
     "output_type": "stream",
     "text": [
      "[22 24 26 28 30 32 34 36 38 40 42 44 46 48 50 52 54 56 58 60 62 64 66 68\n",
      " 70]\n"
     ]
    }
   ],
   "source": [
    "print(np.arange(22, 71, 2))"
   ]
  },
  {
   "cell_type": "markdown",
   "id": "768e305a-db86-4b17-8872-6d1975668c0f",
   "metadata": {},
   "source": [
    "## 3. Write the code using np.arange() to get all odd numbers between 20 and 71. (71 inclusive)"
   ]
  },
  {
   "cell_type": "code",
   "execution_count": 18,
   "id": "1300360d-87e9-41dc-b2ee-42c89ed236a9",
   "metadata": {},
   "outputs": [
    {
     "name": "stdout",
     "output_type": "stream",
     "text": [
      "[21 23 25 27 29 31 33 35 37 39 41 43 45 47 49 51 53 55 57 59 61 63 65 67\n",
      " 69 71]\n"
     ]
    }
   ],
   "source": [
    "print(np.arange(21, 72, 2))"
   ]
  },
  {
   "cell_type": "markdown",
   "id": "3f65a05f-6f6f-4732-b302-e3a6d393558a",
   "metadata": {},
   "source": [
    "## Generate an array of 15 random integers and sort it in ascending order."
   ]
  },
  {
   "cell_type": "code",
   "execution_count": 30,
   "id": "b7cadafa-6026-4185-8414-067e92078e14",
   "metadata": {},
   "outputs": [
    {
     "name": "stdout",
     "output_type": "stream",
     "text": [
      "[ 0  1  2  3  4  5  6  7  8  9 10 11 12 13 14 15]\n"
     ]
    }
   ],
   "source": [
    "\n",
    "\n",
    "\n",
    "x =np.arange(0, 16, 1)\n",
    "y=np.sort(x)\n",
    "print(y)"
   ]
  },
  {
   "cell_type": "markdown",
   "id": "fcc21a29-a964-4a67-aa21-a33a76a3d5ff",
   "metadata": {},
   "source": [
    "## 5. Create a 1D array of zeros of length 10 and set the 5th element to 1."
   ]
  },
  {
   "cell_type": "code",
   "execution_count": 31,
   "id": "756c8030-4ec1-4d2a-bab9-461b7c1caca8",
   "metadata": {},
   "outputs": [
    {
     "name": "stdout",
     "output_type": "stream",
     "text": [
      "[0 0 0 0 0 1 0 0 0 0]\n"
     ]
    }
   ],
   "source": [
    "x=np.array([0,0,0,0,0,0,0,0,0,0])\n",
    "x[5]=1\n",
    "print(x)"
   ]
  },
  {
   "cell_type": "markdown",
   "id": "cae07773-6af4-44b5-b656-3d8ce9f1f94a",
   "metadata": {},
   "source": [
    "## 6. Find the unique elements in a given array [1, 2, 2, 3, 4, 4, 5]."
   ]
  },
  {
   "cell_type": "code",
   "execution_count": 33,
   "id": "aa381d76-31a4-40b5-a1d2-58e521a0a545",
   "metadata": {},
   "outputs": [
    {
     "name": "stdout",
     "output_type": "stream",
     "text": [
      "[1 2 3 4 5]\n"
     ]
    }
   ],
   "source": [
    "x=np.array([1, 2, 2, 3, 4, 4, 5])\n",
    "y=np.unique(x)\n",
    "print(y)"
   ]
  },
  {
   "cell_type": "markdown",
   "id": "d7222e6e-9450-4352-82d7-8e92cfccc699",
   "metadata": {},
   "source": [
    "## 7. Create an array with values ranging from 0 to 10 and reverse the array."
   ]
  },
  {
   "cell_type": "code",
   "execution_count": 40,
   "id": "936ab740-90d9-4ad2-96e7-a2cf07d8a088",
   "metadata": {},
   "outputs": [
    {
     "name": "stdout",
     "output_type": "stream",
     "text": [
      "[ 0  1  2  3  4  5  6  7  8  9 10]\n",
      "[10  9  8  7  6  5  4  3  2  1  0]\n"
     ]
    }
   ],
   "source": [
    "x=np.array([0,1,2,3,4,5,6,7,8,9,10])\n",
    "print(x)\n",
    "y= x[::-1]\n",
    "print(y)"
   ]
  },
  {
   "cell_type": "markdown",
   "id": "a701af75-3c33-4742-8a41-e830db7a76a1",
   "metadata": {},
   "source": [
    "## 8. Given a list of birds and their corresponding age, calculate:\n",
    "a. the mean age of the Crane bird (rounded off to 2 decimal points)\n",
    "b. find the name of the oldest bird in the list\n",
    "birds = ['spoonbills', 'plovers', 'plovers', 'plovers', 'plovers', 'Cranes', 'plovers', 'plovers',\n",
    "'Cranes', 'spoonbills']\n",
    "age = [5.5, 6.0, 3.5, 1.5, 3.0, 4.0, 3.5, 2.0, 5.5, 6.0]"
   ]
  },
  {
   "cell_type": "code",
   "execution_count": 59,
   "id": "4092da82-f016-45a4-855e-83b53f566c62",
   "metadata": {},
   "outputs": [
    {
     "name": "stdout",
     "output_type": "stream",
     "text": [
      "['plovers' 'spoonbills']\n"
     ]
    }
   ],
   "source": [
    "birds = np.array(['spoonbills', 'plovers', 'plovers', 'plovers', 'plovers', 'Cranes', 'plovers', 'plovers', 'Cranes', 'spoonbills'])\n",
    "age = np.array([5.5, 6.0, 3.5, 1.5, 3.0, 4.0, 3.5, 2.0, 5.5, 6.0])\n",
    "boolean_array_mean = np.isin(birds, ['Cranes'])\n",
    "crane_array=age[boolean_array]\n",
    "mean_value=np.mean(crane_array)\n",
    "sortedArray=np.sort(age)\n",
    "highest_age=sortedArray[-1]\n",
    "boolean_array_highest_array=  np.isin(age, [highest_age])\n",
    "print(birds[boolean_array_highest_array])\n"
   ]
  },
  {
   "cell_type": "markdown",
   "id": "2ed8135b-feb6-44b6-986c-2c1678dfd365",
   "metadata": {},
   "source": [
    "## 9. Given a 2d array, write a program to return a subarray such that the subarray consists of the\n",
    "elements from:\n",
    "a. the second to the fourth row of the original array,\n",
    "b. the elements in these rows should be from the last three columns of the\n",
    "corresponding rows of the original array,\n",
    "c. the rows should be in reversed order."
   ]
  },
  {
   "cell_type": "code",
   "execution_count": 90,
   "id": "d9351823-c1a3-4f8a-8d56-4856884a0745",
   "metadata": {},
   "outputs": [
    {
     "name": "stdout",
     "output_type": "stream",
     "text": [
      "[[ 4  5  6 98]\n",
      " [ 7  8  9 97]\n",
      " [10 11 12 95]]\n",
      "[[ 2  3 99]\n",
      " [ 5  6 98]\n",
      " [ 8  9 97]\n",
      " [11 12 95]]\n",
      "[[10 11 12 95]\n",
      " [ 7  8  9 97]\n",
      " [ 4  5  6 98]\n",
      " [ 1  2  3 99]]\n"
     ]
    }
   ],
   "source": [
    "x=np.array([[1,2,3,99],[4,5,6,98],[7,8,9,97],[10,11,12,95]])\n",
    "print(x[1:4,])\n",
    "print(x[:,-3:])\n",
    "print(x[::-1])\n"
   ]
  },
  {
   "cell_type": "markdown",
   "id": "b865b2e9-d218-401e-9c18-bed06b4df254",
   "metadata": {},
   "source": [
    "## 1. Create a 4x4 matrix and replace all elements on its diagonal with 7."
   ]
  },
  {
   "cell_type": "code",
   "execution_count": 102,
   "id": "f1ca7a9d-99a7-4d6e-9119-9d5a8e997334",
   "metadata": {},
   "outputs": [
    {
     "name": "stdout",
     "output_type": "stream",
     "text": [
      "[[ 7  2  3  4]\n",
      " [ 5  7 17  8]\n",
      " [10 11  7 13]\n",
      " [14 15 16  7]]\n"
     ]
    }
   ],
   "source": [
    "k=np.array([[1,2,3,4],[5,6,17,8],[10,11,12,13],[14,15,16,17]])\n",
    "np.fill_diagonal(k, 7)\n",
    "print(k)"
   ]
  },
  {
   "cell_type": "markdown",
   "id": "0e27cd66-be0d-4eff-8d3e-ff3dbf93db05",
   "metadata": {},
   "source": [
    "## 2. Given two arrays of the same size, compute their element-wise product."
   ]
  },
  {
   "cell_type": "code",
   "execution_count": 105,
   "id": "4272bbe4-365d-4dc9-978e-de202f8b9561",
   "metadata": {},
   "outputs": [
    {
     "name": "stdout",
     "output_type": "stream",
     "text": [
      "[ 1  4  9 16]\n"
     ]
    }
   ],
   "source": [
    "a=np.array([1,2,3,4])\n",
    "b=np.array([1,2,3,4])\n",
    "c=a*b\n",
    "print(c)"
   ]
  },
  {
   "cell_type": "markdown",
   "id": "77444b3f-381c-4d58-8c20-c70bc815cb0d",
   "metadata": {},
   "source": [
    "## 3. Create a random 6x6 matrix and compute the mean and standard deviation of its elements."
   ]
  },
  {
   "cell_type": "code",
   "execution_count": 7,
   "id": "d747535f-52d7-47e3-874c-f13b6fdff7ec",
   "metadata": {},
   "outputs": [
    {
     "name": "stdout",
     "output_type": "stream",
     "text": [
      "14.805555555555555\n",
      "10.076979939017345\n"
     ]
    }
   ],
   "source": [
    "x=np.random.randint(36,size=(36))\n",
    "y=x.reshape(6,6)\n",
    "print(np.mean(y))\n",
    "print(np.std(y))\n",
    "\n"
   ]
  },
  {
   "cell_type": "markdown",
   "id": "f7f2b3de-046f-44c5-bb81-1dcc219d21f3",
   "metadata": {},
   "source": [
    "# 4. Stack two arrays vertically and horizontally (use vstack and hstack)."
   ]
  },
  {
   "cell_type": "code",
   "execution_count": 14,
   "id": "d9713ffe-785c-4a45-91a7-76feb5fb4b94",
   "metadata": {},
   "outputs": [
    {
     "name": "stdout",
     "output_type": "stream",
     "text": [
      "[[1 2 3 4]\n",
      " [1 2 3 4]]\n",
      "[1 2 3 4 1 2 3 4]\n"
     ]
    }
   ],
   "source": [
    "a=np.array([1,2,3,4])\n",
    "b=np.array([1,2,3,4])\n",
    "print(np.vstack((a,b)))\n",
    "print(np.hstack((a,b))\n",
    "     )"
   ]
  },
  {
   "cell_type": "code",
   "execution_count": 23,
   "id": "443457b8-6ec3-450d-bc03-5daaa446c8a4",
   "metadata": {},
   "outputs": [
    {
     "name": "stdout",
     "output_type": "stream",
     "text": [
      "26\n"
     ]
    }
   ],
   "source": [
    "#Create a 1D array of 50 random floats between 0 and 1, and count how many values are\n",
    "#greater than 0.5.\n",
    "a=np.random.rand(50)\n",
    "print(len(a[a[:]>0.5]))"
   ]
  },
  {
   "cell_type": "code",
   "execution_count": 28,
   "id": "390da111-e74c-48e2-97f6-9e5e3cab8068",
   "metadata": {},
   "outputs": [
    {
     "name": "stdout",
     "output_type": "stream",
     "text": [
      "[['plovers' '1.5']\n",
      " ['plovers' '2.0']\n",
      " ['plovers' '3.0']\n",
      " ['plovers' '3.5']\n",
      " ['plovers' '3.5']\n",
      " ['Cranes' '4.0']\n",
      " ['spoonbills' '5.5']\n",
      " ['Cranes' '5.5']\n",
      " ['plovers' '6.0']\n",
      " ['spoonbills' '6.0']]\n"
     ]
    }
   ],
   "source": [
    "birds = np.array(['spoonbills', 'plovers', 'plovers', 'plovers', 'plovers', 'Cranes', 'plovers', 'plovers', 'Cranes', 'spoonbills'])\n",
    "age = np.array([5.5, 6.0, 3.5, 1.5, 3.0, 4.0, 3.5, 2.0, 5.5, 6.0])\n",
    "matrix=np.column_stack((birds,age))\n",
    "matrix=matrix[matrix[:,1].argsort()]\n",
    "print(matrix)"
   ]
  },
  {
   "cell_type": "code",
   "execution_count": 32,
   "id": "4d899d0d-abe8-4925-b585-7ca53a2f0354",
   "metadata": {},
   "outputs": [
    {
     "name": "stdout",
     "output_type": "stream",
     "text": [
      "[[124 107 189 148]\n",
      " [179 198 100 177]\n",
      " [125 172 136 101]]\n"
     ]
    }
   ],
   "source": [
    "# 7. Given the shape of an array and a range, Return an array of specified shape, consisting of\n",
    "# random integers from \"discrete uniform\" distribution, in given range [low, high].\n",
    "# Note: high is inclusive in range.\n",
    "# Input Format:\n",
    "# o Input has two lines.\n",
    "# o First line contains the shape of the array.\n",
    "# o Second line contains the range (low, high).\n",
    "# Output Format: A NumPy array\n",
    "\n",
    "\n",
    "shape=(3,4)\n",
    "low,high=100,200\n",
    "a=np.random.randint(low,high+1,size=shape)\n",
    "print(a)"
   ]
  },
  {
   "cell_type": "code",
   "execution_count": 44,
   "id": "83bf4c45-2583-455c-8aab-f7cfdcd8ddcd",
   "metadata": {},
   "outputs": [
    {
     "name": "stdout",
     "output_type": "stream",
     "text": [
      "[38 60  3]\n"
     ]
    }
   ],
   "source": [
    "# 1. Create a 10x10 matrix with random integers and find the indices of the top 3 maximum\n",
    "# values.\n",
    "# o\n",
    "# Concepts: Matrix generation, indexing with conditions.\n",
    "a=np.random.randint(100,size=(10,10))\n",
    "flatten_array=a.flatten()\n",
    "b=flatten_array.argsort()[-3:]\n",
    "print(b)"
   ]
  },
  {
   "cell_type": "code",
   "execution_count": null,
   "id": "cdf26cac-9da4-42c9-bdf3-76b823cb2fb8",
   "metadata": {},
   "outputs": [],
   "source": [
    "# 2. Solve a system of three linear equations using NumPy’s linalg.solve() function.\n",
    "# o\n",
    "# Concepts: Linear algebra, system of equations."
   ]
  },
  {
   "cell_type": "code",
   "execution_count": 47,
   "id": "9fb52266-dded-4ef6-b8da-ecb485eb4458",
   "metadata": {},
   "outputs": [
    {
     "data": {
      "text/plain": [
       "array([1., 0.])"
      ]
     },
     "execution_count": 47,
     "metadata": {},
     "output_type": "execute_result"
    }
   ],
   "source": [
    "coeffient_matrix=np.array([[1,2],[2,1]])\n",
    "constant_matrix=np.array([1,2])\n",
    "np.linalg.solve(coeffient_matrix,constant_matrix) "
   ]
  },
  {
   "cell_type": "code",
   "execution_count": 50,
   "id": "bf74aa95-c2e4-4067-a3db-c6cf69287ca7",
   "metadata": {},
   "outputs": [
    {
     "name": "stdout",
     "output_type": "stream",
     "text": [
      "[255.62311174 +0.j          57.11748942 +0.j\n",
      " -34.72541818 +0.j         -20.09486592+22.41821303j\n",
      " -20.09486592-22.41821303j  12.51066229+30.78146668j\n",
      "  12.51066229-30.78146668j  23.15322428 +0.j        ]\n",
      "[[ 0.3682257 +0.j          0.31570159+0.j         -0.2486123 +0.j\n",
      "   0.40172466-0.04277789j  0.40172466+0.04277789j  0.2515637 +0.21133397j\n",
      "   0.2515637 -0.21133397j -0.49394626+0.j        ]\n",
      " [ 0.31643965+0.j         -0.37037749+0.j         -0.54103535+0.j\n",
      "   0.42744636+0.10820058j  0.42744636-0.10820058j -0.07352296-0.4198504j\n",
      "  -0.07352296+0.4198504j   0.12890572+0.j        ]\n",
      " [ 0.2861055 +0.j         -0.31403034+0.j          0.02199174+0.j\n",
      "  -0.39455002-0.07548126j -0.39455002+0.07548126j -0.19818535+0.3813627j\n",
      "  -0.19818535-0.3813627j   0.52958623+0.j        ]\n",
      " [ 0.28872357+0.j          0.57500663+0.j         -0.15641389+0.j\n",
      "   0.11474236+0.12447962j  0.11474236-0.12447962j -0.14076403+0.02040424j\n",
      "  -0.14076403-0.02040424j  0.24161056+0.j        ]\n",
      " [ 0.2876062 +0.j          0.02784766+0.j          0.34932828+0.j\n",
      "  -0.0500818 +0.15368077j -0.0500818 -0.15368077j  0.50405497+0.j\n",
      "   0.50405497-0.j          0.09525069+0.j        ]\n",
      " [ 0.42688222+0.j         -0.50973652+0.j         -0.09680029+0.j\n",
      "   0.07144136+0.16217609j  0.07144136-0.16217609j -0.36171147-0.03892782j\n",
      "  -0.36171147+0.03892782j -0.52460836+0.j        ]\n",
      " [ 0.40423222+0.j          0.23542832+0.j          0.19550717+0.j\n",
      "  -0.49918931+0.j         -0.49918931-0.j          0.17180622-0.24400436j\n",
      "   0.17180622+0.24400436j -0.02210259+0.j        ]\n",
      " [ 0.41316907+0.j          0.13368633+0.j          0.67149098+0.j\n",
      "   0.12262543-0.36136351j  0.12262543+0.36136351j  0.09973801+0.141431j\n",
      "   0.09973801-0.141431j   -0.34027639+0.j        ]]\n"
     ]
    }
   ],
   "source": [
    "a=np.random.randint(64,size=(8,8))\n",
    "\n",
    "b,c=np.linalg.eig(a)\n",
    "print(b)\n",
    "print(c)"
   ]
  },
  {
   "cell_type": "code",
   "execution_count": null,
   "id": "f65dc9ae-77ec-4c40-ae34-20f8ce699a58",
   "metadata": {},
   "outputs": [],
   "source": []
  }
 ],
 "metadata": {
  "kernelspec": {
   "display_name": "Python 3 (ipykernel)",
   "language": "python",
   "name": "python3"
  },
  "language_info": {
   "codemirror_mode": {
    "name": "ipython",
    "version": 3
   },
   "file_extension": ".py",
   "mimetype": "text/x-python",
   "name": "python",
   "nbconvert_exporter": "python",
   "pygments_lexer": "ipython3",
   "version": "3.10.12"
  }
 },
 "nbformat": 4,
 "nbformat_minor": 5
}
