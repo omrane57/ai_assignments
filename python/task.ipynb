{
 "cells": [
  {
   "cell_type": "markdown",
   "id": "28873012-66e4-41de-b08c-54454fc558a1",
   "metadata": {},
   "source": [
    "# Type 1 : Easy Questions:\n"
   ]
  },
  {
   "cell_type": "markdown",
   "id": "9f71d3fb-2833-4434-ae3a-d006be17f5a9",
   "metadata": {},
   "source": [
    "# Task 1: Variables and Data Types\n",
    "##  Write a Python script that does the following:\n",
    "- Create variables of different data types: integer, float, string, and boolean.\n",
    "- Print each variable with an appropriate message indicating its data type.\n",
    "- Use the type() function to verify and print the data type of each variable."
   ]
  },
  {
   "cell_type": "code",
   "execution_count": 16,
   "id": "faaa3a40-95e5-4af5-8a0e-c8760d2ebd3e",
   "metadata": {},
   "outputs": [
    {
     "name": "stdout",
     "output_type": "stream",
     "text": [
      "Data type of a is <class 'int'>\n",
      "Data type of b is <class 'float'>\n",
      "Data type of c is <class 'str'>\n",
      "Data type of d is <class 'bool'>\n"
     ]
    }
   ],
   "source": [
    "a=21\n",
    "b=21.09\n",
    "c=\"hello world\"\n",
    "d=True\n",
    "print(\"Data type of a is\",type(a));\n",
    "print(\"Data type of b is\",type(b));\n",
    "print(\"Data type of c is\",type(c));\n",
    "print(\"Data type of d is\",type(d));\n",
    "\n"
   ]
  },
  {
   "cell_type": "markdown",
   "id": "4cc4a9d1-fa7c-4b14-af41-d5000819ea10",
   "metadata": {},
   "source": [
    "# Task 2: String Manipulation\n",
    "## Given the string \"Python programming is fun!\", write a Python script that:\n",
    "- Converts the string to uppercase.\n",
    "- Replaces the word \"fun\" with \"powerful\".\n",
    "- Slices the string to print only the word \"programming\".\n",
    "- Prints the length of the original string."
   ]
  },
  {
   "cell_type": "code",
   "execution_count": 17,
   "id": "efa2a6aa-f787-49f4-8532-4ac7c2e4a3d7",
   "metadata": {},
   "outputs": [
    {
     "name": "stdout",
     "output_type": "stream",
     "text": [
      "Python programming is fun!\n",
      "PYTHON PROGRAMMING IS FUN!\n",
      "Python programming is powerful!\n",
      "26\n"
     ]
    }
   ],
   "source": [
    "inputString=\"Python programming is fun!\"\n",
    "capitalCaseString=inputString.upper()\n",
    "newString=inputString.replace(\"fun\", \"powerful\")\n",
    "lengthOfOriginalString=len(inputString)\n",
    "print(inputString);\n",
    "print(capitalCaseString);\n",
    "print(newString);\n",
    "print(lengthOfOriginalString)\n",
    "\n"
   ]
  },
  {
   "cell_type": "markdown",
   "id": "e93cd582-6acc-4c24-b76e-db16332df611",
   "metadata": {},
   "source": [
    "# Task 3: Lists and Loops\n",
    "## Write a Python program that:\n",
    "- Creates a list of at least 5 integers.\n",
    "- Uses a for loop to iterate through the list and print each number.\n",
    "- Uses a while loop to find the sum of all numbers in the list."
   ]
  },
  {
   "cell_type": "code",
   "execution_count": 36,
   "id": "cb3ffbf4-efa6-4ccc-a8c6-0e566dfa099f",
   "metadata": {},
   "outputs": [
    {
     "name": "stdout",
     "output_type": "stream",
     "text": [
      "1\n",
      "2\n",
      "3\n",
      "4\n",
      "5\n",
      "15\n"
     ]
    }
   ],
   "source": [
    "originalList=[1,2,3,4,5]\n",
    "for x in originalList:\n",
    "    print(x);\n",
    "index=0\n",
    "total=0\n",
    "while index<len(originalList):\n",
    "   \n",
    "    total += originalList[index]\n",
    "    \n",
    "    index += 1\n",
    "    \n",
    "print(total) \n",
    "    "
   ]
  },
  {
   "cell_type": "markdown",
   "id": "fe871e4c-57e8-4098-8550-527d747a33fb",
   "metadata": {},
   "source": [
    "# Task 4: Conditionals\n",
    "## Write a Python program that:\n",
    "- Asks the user for their age using input().- Checks if the age is greater than or equal to 18 and prints a message based on whether the user is\n",
    "an adult or not.\n",
    "- Add error handling to ensure the user enters a valid number."
   ]
  },
  {
   "cell_type": "code",
   "execution_count": 38,
   "id": "a44488e0-d729-4253-ad3c-a29be7eb5656",
   "metadata": {},
   "outputs": [
    {
     "name": "stdin",
     "output_type": "stream",
     "text": [
      "Enter The Age Of The User 12\n"
     ]
    },
    {
     "name": "stdout",
     "output_type": "stream",
     "text": [
      "User Is Not Adult Person\n"
     ]
    }
   ],
   "source": [
    "age=int(input(\"Enter The Age Of The User\"))\n",
    "try:\n",
    "    if(age>=18):\n",
    "        print(\"User Is Adult\")\n",
    "    else:\n",
    "        raise Exception(\"User Is Not Adult Person\")\n",
    "except Exception as e:\n",
    "  print(e) "
   ]
  },
  {
   "cell_type": "markdown",
   "id": "60b41119-2b23-403c-85d2-b2b4f4fae15f",
   "metadata": {},
   "source": [
    "# Task 5: Functions\n",
    "## Write a Python function calculate_area() that:\n",
    "- Takes two parameters: length and width (both integers or floats).\n",
    "- Returns the area of a rectangle (length × width).\n",
    "- Call the function with different sets of parameters and print the results."
   ]
  },
  {
   "cell_type": "code",
   "execution_count": 41,
   "id": "b43a6ef1-a85a-4bb3-b450-96964ced7151",
   "metadata": {},
   "outputs": [
    {
     "name": "stdout",
     "output_type": "stream",
     "text": [
      "Area of rectangle is 200\n"
     ]
    }
   ],
   "source": [
    "def calculate_area(length,width):\n",
    "    return length*width;\n",
    "value=calculate_area(10,20);\n",
    "print(f\"Area of rectangle is\",value);"
   ]
  },
  {
   "cell_type": "markdown",
   "id": "988b12fe-8f4d-45ab-bc11-f8ae27c68944",
   "metadata": {},
   "source": [
    "# Task 6: Dictionaries\n",
    "## Write a Python program that:\n",
    "- Creates a dictionary containing at least 3 key-value pairs where the keys are student names, and\n",
    "the values are their scores.\n",
    "- Adds a new key-value pair to the dictionary for another student.\n",
    "- Updates the score of one student.\n",
    "- Prints out all the student names and their scores."
   ]
  },
  {
   "cell_type": "code",
   "execution_count": 46,
   "id": "0cc54941-05d1-49cc-ae99-5f77be7ac422",
   "metadata": {},
   "outputs": [
    {
     "name": "stdout",
     "output_type": "stream",
     "text": [
      "{'om': 50, 'darshan': 20, 'akshay': 30, 'rohit': 40}\n"
     ]
    }
   ],
   "source": [
    "student={\"om\":10,\"darshan\":20,\"akshay\":30}\n",
    "student.update({\"rohit\":40})\n",
    "student.update({\"om\":50})\n",
    "print(student)"
   ]
  },
  {
   "cell_type": "markdown",
   "id": "7a0425e0-eb39-4ede-aef6-e6fe4e4063b9",
   "metadata": {},
   "source": [
    "# Task 7: File Handling\n",
    "## Write a Python program that:\n",
    "- Creates a text file named students.txt.\n",
    "- Writes the names of five students into the file, each on a new line.\n",
    "- Reads the file and prints its contents t"
   ]
  },
  {
   "cell_type": "code",
   "execution_count": 50,
   "id": "ad1a6b31-0429-48c0-85c9-94ebc017d49b",
   "metadata": {},
   "outputs": [
    {
     "name": "stdout",
     "output_type": "stream",
     "text": [
      "om\n",
      "darshan\n",
      "rahul\n",
      "rohit\n",
      "caleb\n"
     ]
    }
   ],
   "source": [
    "f=open(\"student.txt\",'a')\n",
    "f.write('''om\n",
    "darshan\n",
    "rahul\n",
    "rohit\n",
    "caleb''')\n",
    "\n",
    "f.close()\n",
    "data=open(\"student.txt\",'r')\n",
    "print(data.read())\n",
    "\n"
   ]
  },
  {
   "cell_type": "markdown",
   "id": "dbbed5d7-74f8-46c2-afa8-911343ccacc8",
   "metadata": {},
   "source": [
    "# Task 8: Error Handling\n",
    "## Write a Python program that:- Attempts to divide two numbers.\n",
    "- Handles any ZeroDivisionError by printing an error message.\n",
    "- Handles any other exceptions using a generic except block and prints an appropriate message."
   ]
  },
  {
   "cell_type": "code",
   "execution_count": 56,
   "id": "df4ebf9a-2bea-445f-a28f-956ea0b1ed25",
   "metadata": {},
   "outputs": [
    {
     "name": "stdin",
     "output_type": "stream",
     "text": [
      "Enter The Number One 1\n",
      "Enter The Number Two 2\n"
     ]
    },
    {
     "name": "stdout",
     "output_type": "stream",
     "text": [
      "Number 1 should Be Always Greater Than Number 2\n"
     ]
    }
   ],
   "source": [
    "number1=int(input(\"Enter The Number One\"))\n",
    "number2=int(input(\"Enter The Number Two\"))\n",
    "\n",
    "try:\n",
    "    result=number1/number2\n",
    "    if(number1<number2):\n",
    "        raise Exception(\"Number 1 should Be Always Greater Than Number 2\")\n",
    "except ZeroDivisionError as error:\n",
    "  print(error) \n",
    "except Exception as err:\n",
    "     print(err) "
   ]
  },
  {
   "cell_type": "markdown",
   "id": "49be9145-1038-42fe-b705-69c68c97ec7d",
   "metadata": {},
   "source": [
    "# Type 2 : Moderate Questions:"
   ]
  },
  {
   "cell_type": "markdown",
   "id": "8c18cc29-d2d6-44fe-9927-f64e41ba2f90",
   "metadata": {},
   "source": [
    "# Task 1: Lambda Functions and Built-in Functions\n",
    "## Write a Python program that:\n",
    "- Creates a list of tuples representing the names and ages of 5 people.\n",
    "- Sorts the list of tuples based on age using a lambda function.\n",
    "- Uses the map() function to create a list of only the names from the sorted list.\n",
    "- Uses the filter() function to return a list of people whose age is greater than or equal to 30.\n",
    "- Print the final lists."
   ]
  },
  {
   "cell_type": "code",
   "execution_count": 75,
   "id": "83971d03-c1bd-40fd-add4-1e3cc2342384",
   "metadata": {},
   "outputs": [
    {
     "name": "stdout",
     "output_type": "stream",
     "text": [
      "[('om', 30), ('darshan', 41), ('rahul', 22), ('rohit', 23), ('caleb', 24)]\n",
      "['darshan', 'om', 'caleb', 'rohit', 'rahul']\n",
      "[('darshan', 41)]\n"
     ]
    }
   ],
   "source": [
    "users=[(\"om\",30),(\"darshan\",41),(\"rahul\",22),(\"rohit\",23),(\"caleb\",24)]\n",
    "print(users)\n",
    "sorted_users_desc = sorted(users, key=lambda user: user[1], reverse=True)\n",
    "user_names= list(map(lambda user: user[0], sorted_users_desc))\n",
    "print(user_names)\n",
    "user_names_age_greater_than_30= list(filter(lambda user: user[1]>30, sorted_users_desc))\n",
    "print(user_names_age_greater_than_30)\n",
    "\n"
   ]
  },
  {
   "cell_type": "markdown",
   "id": "cb33606b-52ed-49a0-bff9-169854b4f72c",
   "metadata": {},
   "source": [
    "# Task 2: List Comprehensions and Nested Loops\n",
    "## Write a Python program that:\n",
    "- Uses a list comprehension to create a list of all even numbers from 1 to 100.\n",
    "- Uses a list comprehension with a nested loop to create a multiplication table (i.e., a list of lists) for\n",
    "the numbers 1 to 5.\n",
    "- Print both the even numbers list and the multiplication table."
   ]
  },
  {
   "cell_type": "code",
   "execution_count": 85,
   "id": "cf8a63d0-5189-4012-aeb0-9a04c84d6e14",
   "metadata": {},
   "outputs": [
    {
     "name": "stdout",
     "output_type": "stream",
     "text": [
      "even_numbers [2, 4, 6, 8, 10, 12, 14, 16, 18, 20, 22, 24, 26, 28, 30, 32, 34, 36, 38, 40, 42, 44, 46, 48, 50, 52, 54, 56, 58, 60, 62, 64, 66, 68, 70, 72, 74, 76, 78, 80, 82, 84, 86, 88, 90, 92, 94, 96, 98, 100]\n",
      "mutiplication_table [[1, 2, 3, 4, 5, 6, 7, 8, 9, 10], [2, 4, 6, 8, 10, 12, 14, 16, 18, 20], [3, 6, 9, 12, 15, 18, 21, 24, 27, 30], [4, 8, 12, 16, 20, 24, 28, 32, 36, 40], [5, 10, 15, 20, 25, 30, 35, 40, 45, 50]]\n"
     ]
    }
   ],
   "source": [
    "even_numbers=[x for x in range(1,101) if x%2==0]\n",
    "print(\"even_numbers\",even_numbers)\n",
    "mutiplication_table=[[x*y for x in range(1,11)]  for y in range(1,6)]\n",
    "print(\"mutiplication_table\",mutiplication_table)"
   ]
  },
  {
   "cell_type": "markdown",
   "id": "9528d5e7-db6d-4d43-8a7f-0f17e210ea36",
   "metadata": {},
   "source": [
    "# Task 3: OOP - Classes and Inheritance\n",
    "## Write a Python program that:\n",
    "- Defines a class Person with attributes for name and age, and a method greet() that prints a\n",
    "greeting with the person's name.\n",
    "- Defines a subclass Employee that inherits from Person, adds an additional attribute employee_id,and overrides the greet() method to include the employee ID in the greeting.\n",
    "- Create objects of both Person and Employee and call their respective greet() methods."
   ]
  },
  {
   "cell_type": "code",
   "execution_count": 103,
   "id": "fe3e4ffd-2d59-4ab8-bf0f-851e57868307",
   "metadata": {},
   "outputs": [
    {
     "name": "stdout",
     "output_type": "stream",
     "text": [
      "Welcome Om\n",
      "Om Your Employee Id is 436545142\n"
     ]
    }
   ],
   "source": [
    "class Person :\n",
    "    def __init__(self,name,age):\n",
    "        self.name=name;\n",
    "        self.age=age;\n",
    "    def greet(self):\n",
    "        print(\"Welcome\",self.name);\n",
    "\n",
    "class Employee(Person) :\n",
    "    def __init__(self,name,age,employee_id):\n",
    "       super().__init__(name,age)\n",
    "       self.employee_id=employee_id\n",
    "    def greet(self):\n",
    "        print(f\"{self.name} Your Employee Id is {self.employee_id}\"); \n",
    "\n",
    "person=Person(\"Om\",22)\n",
    "employee=Employee(\"Om\",22,'436545142')\n",
    "\n",
    "person.greet()\n",
    "employee.greet()\n"
   ]
  },
  {
   "cell_type": "markdown",
   "id": "9518d478-1570-4cd8-a44d-286802da1daf",
   "metadata": {},
   "source": [
    "# Task 4: Generators\n",
    "## Write a Python program that:\n",
    "- Implements a generator fibonacci_generator(n) that generates the first n Fibonacci numbers.\n",
    "- Use the generator to print the first 10 Fibonacci numbers.\n",
    "- Explain the benefits of using generators over lists for large data."
   ]
  },
  {
   "cell_type": "code",
   "execution_count": 113,
   "id": "85110317-d5c2-4f24-a1e5-7addb01879d5",
   "metadata": {},
   "outputs": [
    {
     "name": "stdout",
     "output_type": "stream",
     "text": [
      "0\n",
      "1\n",
      "1\n",
      "2\n",
      "3\n",
      "5\n",
      "8\n",
      "13\n",
      "21\n",
      "34\n"
     ]
    }
   ],
   "source": [
    "def  fibonacci_generator(n):\n",
    "    \n",
    "    a, b = 0, 1  \n",
    "    for x in range(n):\n",
    "        yield a  \n",
    "        a, b = b, a + b  \n",
    "        \n",
    "n = 10  \n",
    "for num in fibonacci_generator(n):\n",
    "    print(num)        \n",
    "        \n",
    "        \n"
   ]
  },
  {
   "cell_type": "markdown",
   "id": "53d8b82e-b1e8-42f5-ab0d-a89bba0f994b",
   "metadata": {},
   "source": [
    "# Task 5: Exception Handling with Custom Exceptions\n",
    "## Write a Python program that:\n",
    "- Defines a custom exception class InvalidAgeError that is raised when an invalid age (less than 0 or\n",
    "greater than 150) is entered.\n",
    "- Write a function validate_age() that takes an age as input, raises InvalidAgeError for invalid ages,\n",
    "and prints a message if the age is valid.\n",
    "- Handle the exception with a try-except block and test with both valid and invalid age inputs."
   ]
  },
  {
   "cell_type": "code",
   "execution_count": 127,
   "id": "b33df2ce-2228-4fa2-9e96-bb5f01f023e6",
   "metadata": {},
   "outputs": [
    {
     "name": "stdout",
     "output_type": "stream",
     "text": [
      "valid age\n",
      "Age is not valid\n",
      "Age is not valid\n"
     ]
    }
   ],
   "source": [
    "class InvalidAgeError(Exception):\n",
    "    \"Invalid Age,age is less than 0 or greater than 150\"\n",
    "    pass\n",
    "    \n",
    "def validate_age(age) :\n",
    "   \n",
    "    try:\n",
    "        if(age<0 or age>150):\n",
    "            raise InvalidAgeError\n",
    "        else:\n",
    "            print(\"valid age\");\n",
    "    except InvalidAgeError:\n",
    "        print(\"Age is not valid\");\n",
    "\n",
    "\n",
    "\n",
    "validate_age(98);\n",
    "validate_age(155);\n",
    "validate_age(-1);\n",
    "\n",
    "    \n"
   ]
  },
  {
   "cell_type": "markdown",
   "id": "a3f3196b-530b-42fa-af21-67de78692287",
   "metadata": {},
   "source": [
    "# Task 6: Regular Expressions\n",
    "## Write a Python program that:\n",
    "- Prompts the user to input an email address.\n",
    "- Uses a regular expression to validate if the entered email address follows the format:\n",
    "[username]@[domain].[extension] (e.g., user@example.com).\n",
    "- Print a message indicating whether the email is valid or not.\n",
    "- Use the re module to implement the regular expression."
   ]
  },
  {
   "cell_type": "code",
   "execution_count": 132,
   "id": "d387d325-4ef4-483e-900e-3f0526859b5b",
   "metadata": {},
   "outputs": [
    {
     "name": "stdin",
     "output_type": "stream",
     "text": [
      "enter email id om.rane@nexsales.com\n"
     ]
    },
    {
     "name": "stdout",
     "output_type": "stream",
     "text": [
      "Valid email\n"
     ]
    }
   ],
   "source": [
    "import re\n",
    "\n",
    "regex = re.compile(r'([A-Za-z0-9]+[.-_])*[A-Za-z0-9]+@[A-Za-z0-9-]+(\\.[A-Z|a-z]{2,})+')\n",
    "\n",
    "def isValid(email):\n",
    "    if re.fullmatch(regex, email):\n",
    "      print(\"Valid email\")\n",
    "    else:\n",
    "      print(\"Invalid email\")\n",
    "email=input(\"enter email id\")\n",
    "isValid(email)"
   ]
  },
  {
   "cell_type": "markdown",
   "id": "64fcb95d-71de-45bf-80d0-75529da02a17",
   "metadata": {},
   "source": [
    "# Task 7: Working with JSON\n",
    "## Write a Python program that:\n",
    "- Creates a dictionary with details about a book, including title, author, and year published.\n",
    "- Converts the dictionary to a JSON string using the json module and writes it to a file named\n",
    "book.json.\n",
    "- Reads the JSON string back from the file and converts it back to a Python dictionary.\n",
    "- Print both the JSON string and the final dictionary."
   ]
  },
  {
   "cell_type": "code",
   "execution_count": 146,
   "id": "f25f617d-eca7-4abe-bbf5-ff89e1d6b1a0",
   "metadata": {},
   "outputs": [
    {
     "name": "stdout",
     "output_type": "stream",
     "text": [
      "<class 'dict'>\n"
     ]
    }
   ],
   "source": [
    "import json\n",
    "a={\n",
    "   \"title\":\"hello\", \"author\":\"world\",\"published_year\":1998 \n",
    "}\n",
    "b=json.dumps(a)\n",
    "writeStream=open('hello.json','w')\n",
    "writeStream.write(b)\n",
    "writeStream.close()\n",
    "readStream=open('hello.json','r')\n",
    "c=readStream.read()\n",
    "d=json.loads(c)\n",
    "print(type(d))\n"
   ]
  },
  {
   "cell_type": "markdown",
   "id": "4b347d15-3680-4ffb-ab69-1280e200ac0e",
   "metadata": {},
   "source": [
    "# Task 8: Threading\n",
    "## Write a Python program that:\n",
    "- Defines a function print_numbers() that prints numbers from 1 to 10, with a 1-second delay\n",
    "between each number.\n",
    "- Creates two threads that run the print_numbers() function concurrently.\n",
    "- Print a message indicating when both threads have finished executing.\n",
    "- Use the threading module to implement this task."
   ]
  },
  {
   "cell_type": "code",
   "execution_count": 158,
   "id": "9be3b737-05ae-4124-9835-51092af59211",
   "metadata": {},
   "outputs": [
    {
     "name": "stdout",
     "output_type": "stream",
     "text": [
      "1\n",
      "1\n",
      "2\n",
      "2\n",
      "3\n",
      "3\n",
      "4\n",
      "4\n",
      "5\n",
      "5\n",
      "6\n",
      "6\n",
      "7\n",
      "7\n",
      "8\n",
      "8\n",
      "99\n",
      "\n",
      "10\n",
      "10\n",
      "Both the threads completed is execution\n"
     ]
    }
   ],
   "source": [
    "from time import sleep\n",
    "from threading import Thread\n",
    "\n",
    "def print_numbers():\n",
    "    for x in range(1,11):\n",
    "        print(x);\n",
    "        sleep(1)\n",
    "\n",
    "thread1=Thread(target=print_numbers)\n",
    "thread2=Thread(target=print_numbers)\n",
    "\n",
    "\n",
    "thread1.start()\n",
    "thread2.start()\n",
    "thread1.join()\n",
    "thread2.join()\n",
    "print(\"Both the threads completed is execution\")\n",
    "\n"
   ]
  },
  {
   "cell_type": "markdown",
   "id": "176e1846-1053-4ca4-993d-cc3f24e03f1a",
   "metadata": {},
   "source": [
    "# Task 9: Command-line Arguments\n",
    "## Write a Python program that:\n",
    "- Accepts two numbers as command-line arguments.\n",
    "- Multiplies the two numbers and prints the result.\n",
    "- Use the sys.argv list to get the command-line arguments."
   ]
  },
  {
   "cell_type": "code",
   "execution_count": 160,
   "id": "87b43a76-215c-4d44-bd25-bec91c1b7f7f",
   "metadata": {},
   "outputs": [
    {
     "name": "stdout",
     "output_type": "stream",
     "text": [
      "Error: invalid literal for int() with base 10: '-f'\n"
     ]
    }
   ],
   "source": [
    "import sys\n",
    "n=len(sys.argv)\n",
    "print(int(sys.argv[1])*int(sys.argv[2]))"
   ]
  },
  {
   "cell_type": "markdown",
   "id": "89367cbf-3c51-49f3-a3a1-e633fffe333a",
   "metadata": {},
   "source": [
    "# Type 3 : Challenging Questions:"
   ]
  },
  {
   "cell_type": "markdown",
   "id": "22c7c82b-f75c-4f93-8698-f2926dbefec4",
   "metadata": {},
   "source": [
    "\n",
    "# Problem Statement: Student Management System"
   ]
  },
  {
   "cell_type": "markdown",
   "id": "9d1fbadc-3ead-42e7-8ab3-37298754374b",
   "metadata": {},
   "source": [
    "### Objective:Create a Python program that manages a list of students and their grades. The program should\n",
    "### allow the user to add new students, update student grades, calculate statistics, and store the data in\n",
    "### a file. The system should be interactive and offer the user a menu of options to choose from.\n",
    "Requirements:\n",
    "1. Menu System:\n",
    "- The program should display a menu of options that the user can choose from:\n",
    "* Add a new student\n",
    "* Update student grade\n",
    "* View all students\n",
    "* Calculate class average\n",
    "* Find the highest and lowest grades\n",
    "* Save student data to a file\n",
    "* Load student data from a file\n",
    "* Exit the program\n",
    "2. Student Data:\n",
    "Each student will have the following information:\n",
    "- Name (string)\n",
    "- Age (integer)\n",
    "- Grade (float)\n",
    "Store the student data in a dictionary where the key is the student's name and the value is a\n",
    "dictionary containing their age and grade.\n",
    "Features to Implement:\n",
    "A. Adding a New Student- Prompt the user to input the student's name, age, and grade.\n",
    "- Add the student to the dictionary with their corresponding data.\n",
    "- Handle errors if the user enters invalid data types (e.g., non-numeric age or grade).\n",
    "B. Updating a Student's Grade\n",
    "- Ask the user for the student's name.\n",
    "- If the student exists, prompt the user to enter the new grade and update the student's record.\n",
    "- If the student does not exist, display an appropriate message.\n",
    "C. Viewing All Students\n",
    "- Print a formatted list of all students with their name, age, and grade.\n",
    "- If there are no students, display a message indicating the list is empty.\n",
    "D. Calculating Class Average\n",
    "- Calculate and display the average grade of all students.\n",
    "- Handle the case where there are no students by displaying an appropriate message.\n",
    "E. Finding the Highest and Lowest Grades\n",
    "- Identify the students with the highest and lowest grades.\n",
    "- Display their names and grades.\n",
    "F. Saving Data to a File\n",
    "- Save the student data to a text file (students.txt).\n",
    "- Each line in the file should contain a student's name, age, and grade, separated by commas.\n",
    "G. Loading Data from a File- Load student data from the students.txt file.\n",
    "- Ensure that the data is properly parsed and stored in the dictionary.\n",
    "H. Error Handling\n",
    "- Use try-except blocks to handle potential errors, such as file not found errors, invalid inputs, or\n",
    "division by zero when calculating averages.\n",
    "I. Exit the Program\n",
    "- Allow the user to exit the program by selecting the exit option from the menu."
   ]
  },
  {
   "cell_type": "code",
   "execution_count": null,
   "id": "3ff21b1b-5e42-4dd6-bd95-b654a9611d0b",
   "metadata": {},
   "outputs": [
    {
     "name": "stdout",
     "output_type": "stream",
     "text": [
      "{'om': {'age': 21, 'grade': 80.0}}\n"
     ]
    },
    {
     "name": "stdin",
     "output_type": "stream",
     "text": [
      "Press 1 To Add a new student\n",
      "    Press 2 To Update student grade\n",
      "    Press 3 To View all students\n",
      "    Press 4 To Calculate class average\n",
      "    Press 5 To Find the highest and lowest grades\n",
      "    Press 6 To Save student data to a file\n",
      "    Press 7 To Load student data from a file\n",
      "    Press 8 To Exit the program 1\n",
      "Enter the name of the student:  om\n",
      "Enter the age of the student:  21\n",
      "Enter the grade of the student. 85\n"
     ]
    },
    {
     "name": "stdout",
     "output_type": "stream",
     "text": [
      "{'om': {'age': 21, 'grade': 85.0}}\n"
     ]
    },
    {
     "name": "stdin",
     "output_type": "stream",
     "text": [
      "Press 1 To Add a new student\n",
      "    Press 2 To Update student grade\n",
      "    Press 3 To View all students\n",
      "    Press 4 To Calculate class average\n",
      "    Press 5 To Find the highest and lowest grades\n",
      "    Press 6 To Save student data to a file\n",
      "    Press 7 To Load student data from a file\n",
      "    Press 8 To Exit the program 3\n"
     ]
    },
    {
     "name": "stdout",
     "output_type": "stream",
     "text": [
      "['Student name: om, age: 21, grade: 85.0']\n",
      "{'om': {'age': 21, 'grade': 85.0}}\n"
     ]
    },
    {
     "name": "stdin",
     "output_type": "stream",
     "text": [
      "Press 1 To Add a new student\n",
      "    Press 2 To Update student grade\n",
      "    Press 3 To View all students\n",
      "    Press 4 To Calculate class average\n",
      "    Press 5 To Find the highest and lowest grades\n",
      "    Press 6 To Save student data to a file\n",
      "    Press 7 To Load student data from a file\n",
      "    Press 8 To Exit the program 1\n",
      "Enter the name of the student:  darshan\n",
      "Enter the age of the student:  25\n",
      "Enter the grade of the student. 87\n"
     ]
    },
    {
     "name": "stdout",
     "output_type": "stream",
     "text": [
      "{'om': {'age': 21, 'grade': 85.0}, 'darshan': {'age': 25, 'grade': 87.0}}\n"
     ]
    },
    {
     "name": "stdin",
     "output_type": "stream",
     "text": [
      "Press 1 To Add a new student\n",
      "    Press 2 To Update student grade\n",
      "    Press 3 To View all students\n",
      "    Press 4 To Calculate class average\n",
      "    Press 5 To Find the highest and lowest grades\n",
      "    Press 6 To Save student data to a file\n",
      "    Press 7 To Load student data from a file\n",
      "    Press 8 To Exit the program 3\n"
     ]
    },
    {
     "name": "stdout",
     "output_type": "stream",
     "text": [
      "['Student name: om, age: 21, grade: 85.0', 'Student name: darshan, age: 25, grade: 87.0', 'Student name: om, age: 21, grade: 85.0', 'Student name: darshan, age: 25, grade: 87.0']\n",
      "{'om': {'age': 21, 'grade': 85.0}, 'darshan': {'age': 25, 'grade': 87.0}}\n"
     ]
    }
   ],
   "source": [
    "## students={}\n",
    "def add_student():\n",
    "    try:\n",
    "        name = input(\"Enter the name of the student: \")\n",
    "        if not name.strip(): \n",
    "            raise Exception(\"Please enter a valid name for the student.\")\n",
    "        age_input = input(\"Enter the age of the student: \")\n",
    "        try:\n",
    "            age = int(age_input)\n",
    "            if age <= 0:\n",
    "                raise ValueError(\"Age must be a positive integer.\")\n",
    "        except ValueError:\n",
    "            raise ValueError(\"Invalid age. Please enter a valid positive integer for age.\")\n",
    "        grade_input = input(\"Enter the grade of the student.\")\n",
    "        try:\n",
    "            grade = float(grade_input)\n",
    "            if grade < 0.0 or grade > 100.0:\n",
    "                raise ValueError(\"Grade must be between 0.0 and 100.0.\")\n",
    "        except ValueError:\n",
    "            raise ValueError(\"Invalid grade. Please enter a valid float between 0.0 and 100.0.\")\n",
    "       \n",
    "        students.update({name:{\n",
    "            \"age\":age,\n",
    "            \"grade\":grade\n",
    "        }})\n",
    "    except Exception as e:\n",
    "        print(e)   \n",
    "def update_student_grade():\n",
    "    try:\n",
    "        name=input(\"Enter the name of student\")\n",
    "        student_found=students.get(name)\n",
    "      \n",
    "        if (student_found==None):\n",
    "            raise Exception(\"Student Not Found,Please Add The Student\") \n",
    "        \n",
    "        grade=float(input(\"Enter the grade of student\"))\n",
    "        students[name][\"grade\"]=grade;\n",
    "    except Exception as e:\n",
    "        print(e)\n",
    "def view_all_students():\n",
    "    student_list=[] \n",
    "    keys=students.keys()\n",
    "    try:     \n",
    "        if (len(students)==0):\n",
    "            raise Exception(\"Students Are Not Available\") \n",
    "        for name in keys:\n",
    "            for name in students.keys():\n",
    "                student_list.append(f\"Student name: {name}, age: {students[name]['age']}, grade: {students[name]['grade']}\")\n",
    " \n",
    "        print(student_list)   \n",
    "            \n",
    "        \n",
    "    except Exception as e:\n",
    "        print(e)\n",
    "    \n",
    "    \n",
    "def switch(menu_no):\n",
    "    \n",
    "    if menu_no == 1:\n",
    "        add_student();\n",
    "        return;\n",
    "       \n",
    "    elif menu_no == 2:\n",
    "         update_student_grade();\n",
    "         return;\n",
    "    elif menu_no == 3:\n",
    "        view_all_students();\n",
    "        return;\n",
    "       \n",
    "    elif menu_no == 4:\n",
    "        print(\"one pressed\")\n",
    "        return;\n",
    "     \n",
    "    elif menu_no == 5:\n",
    "        print(\"one pressed\")\n",
    "        return;\n",
    "        \n",
    "    elif menu_no == 6:\n",
    "        print(\"one pressed\")\n",
    "        return;\n",
    "        \n",
    "    elif menu_no == 7:\n",
    "        print(\"one pressed\")\n",
    "        return;\n",
    "       \n",
    "    \n",
    "while(True):\n",
    "    print(students)\n",
    "    menu_no=int(input(\"\"\"Press 1 To Add a new student\n",
    "    Press 2 To Update student grade\n",
    "    Press 3 To View all students\n",
    "    Press 4 To Calculate class average\n",
    "    Press 5 To Find the highest and lowest grades\n",
    "    Press 6 To Save student data to a file\n",
    "    Press 7 To Load student data from a file\n",
    "    Press 8 To Exit the program\"\"\"))\n",
    "    if(menu_no==8):\n",
    "        break;\n",
    "    else:\n",
    "        switch(menu_no);\n",
    "    "
   ]
  },
  {
   "cell_type": "code",
   "execution_count": null,
   "id": "85c52ce9-558e-4644-aaac-0f41b4f218ac",
   "metadata": {},
   "outputs": [],
   "source": []
  }
 ],
 "metadata": {
  "kernelspec": {
   "display_name": "Python 3 (ipykernel)",
   "language": "python",
   "name": "python3"
  },
  "language_info": {
   "codemirror_mode": {
    "name": "ipython",
    "version": 3
   },
   "file_extension": ".py",
   "mimetype": "text/x-python",
   "name": "python",
   "nbconvert_exporter": "python",
   "pygments_lexer": "ipython3",
   "version": "3.10.12"
  }
 },
 "nbformat": 4,
 "nbformat_minor": 5
}
