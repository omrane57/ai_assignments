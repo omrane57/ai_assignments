{
 "cells": [
  {
   "cell_type": "markdown",
   "id": "ed4efad9-2de9-4b94-9e64-3e72a31d494f",
   "metadata": {},
   "source": [
    "# Basic Questions (3 marks each)"
   ]
  },
  {
   "cell_type": "code",
   "execution_count": 130,
   "id": "f09081d3-9864-47c3-bf06-115cf05088f2",
   "metadata": {},
   "outputs": [
    {
     "data": {
      "text/html": [
       "<div>\n",
       "<style scoped>\n",
       "    .dataframe tbody tr th:only-of-type {\n",
       "        vertical-align: middle;\n",
       "    }\n",
       "\n",
       "    .dataframe tbody tr th {\n",
       "        vertical-align: top;\n",
       "    }\n",
       "\n",
       "    .dataframe thead th {\n",
       "        text-align: right;\n",
       "    }\n",
       "</style>\n",
       "<table border=\"1\" class=\"dataframe\">\n",
       "  <thead>\n",
       "    <tr style=\"text-align: right;\">\n",
       "      <th></th>\n",
       "      <th>Invoice ID</th>\n",
       "      <th>Branch</th>\n",
       "      <th>City</th>\n",
       "      <th>Customer type</th>\n",
       "      <th>Gender</th>\n",
       "      <th>Product line</th>\n",
       "      <th>Unit price</th>\n",
       "      <th>Quantity</th>\n",
       "      <th>Tax 5%</th>\n",
       "      <th>Total</th>\n",
       "      <th>Date</th>\n",
       "      <th>Time</th>\n",
       "      <th>Payment</th>\n",
       "      <th>cogs</th>\n",
       "      <th>gross margin percentage</th>\n",
       "      <th>gross income</th>\n",
       "      <th>Rating</th>\n",
       "    </tr>\n",
       "  </thead>\n",
       "  <tbody>\n",
       "    <tr>\n",
       "      <th>0</th>\n",
       "      <td>750-67-8428</td>\n",
       "      <td>A</td>\n",
       "      <td>Yangon</td>\n",
       "      <td>Member</td>\n",
       "      <td>Female</td>\n",
       "      <td>Health and beauty</td>\n",
       "      <td>74.69</td>\n",
       "      <td>7</td>\n",
       "      <td>26.1415</td>\n",
       "      <td>548.9715</td>\n",
       "      <td>1/5/2019</td>\n",
       "      <td>13:08</td>\n",
       "      <td>Ewallet</td>\n",
       "      <td>522.83</td>\n",
       "      <td>4.761905</td>\n",
       "      <td>26.1415</td>\n",
       "      <td>9.1</td>\n",
       "    </tr>\n",
       "    <tr>\n",
       "      <th>1</th>\n",
       "      <td>226-31-3081</td>\n",
       "      <td>C</td>\n",
       "      <td>Naypyitaw</td>\n",
       "      <td>Normal</td>\n",
       "      <td>Female</td>\n",
       "      <td>Electronic accessories</td>\n",
       "      <td>15.28</td>\n",
       "      <td>5</td>\n",
       "      <td>3.8200</td>\n",
       "      <td>80.2200</td>\n",
       "      <td>3/8/2019</td>\n",
       "      <td>10:29</td>\n",
       "      <td>Cash</td>\n",
       "      <td>76.40</td>\n",
       "      <td>4.761905</td>\n",
       "      <td>3.8200</td>\n",
       "      <td>9.6</td>\n",
       "    </tr>\n",
       "    <tr>\n",
       "      <th>2</th>\n",
       "      <td>631-41-3108</td>\n",
       "      <td>A</td>\n",
       "      <td>Yangon</td>\n",
       "      <td>Normal</td>\n",
       "      <td>Male</td>\n",
       "      <td>Home and lifestyle</td>\n",
       "      <td>46.33</td>\n",
       "      <td>7</td>\n",
       "      <td>16.2155</td>\n",
       "      <td>340.5255</td>\n",
       "      <td>3/3/2019</td>\n",
       "      <td>13:23</td>\n",
       "      <td>Credit card</td>\n",
       "      <td>324.31</td>\n",
       "      <td>4.761905</td>\n",
       "      <td>16.2155</td>\n",
       "      <td>7.4</td>\n",
       "    </tr>\n",
       "    <tr>\n",
       "      <th>3</th>\n",
       "      <td>123-19-1176</td>\n",
       "      <td>A</td>\n",
       "      <td>Yangon</td>\n",
       "      <td>Member</td>\n",
       "      <td>Male</td>\n",
       "      <td>Health and beauty</td>\n",
       "      <td>58.22</td>\n",
       "      <td>8</td>\n",
       "      <td>23.2880</td>\n",
       "      <td>489.0480</td>\n",
       "      <td>1/27/2019</td>\n",
       "      <td>20:33</td>\n",
       "      <td>Ewallet</td>\n",
       "      <td>465.76</td>\n",
       "      <td>4.761905</td>\n",
       "      <td>23.2880</td>\n",
       "      <td>8.4</td>\n",
       "    </tr>\n",
       "    <tr>\n",
       "      <th>4</th>\n",
       "      <td>373-73-7910</td>\n",
       "      <td>A</td>\n",
       "      <td>Yangon</td>\n",
       "      <td>Normal</td>\n",
       "      <td>Male</td>\n",
       "      <td>Sports and travel</td>\n",
       "      <td>86.31</td>\n",
       "      <td>7</td>\n",
       "      <td>30.2085</td>\n",
       "      <td>634.3785</td>\n",
       "      <td>2/8/2019</td>\n",
       "      <td>10:37</td>\n",
       "      <td>Ewallet</td>\n",
       "      <td>604.17</td>\n",
       "      <td>4.761905</td>\n",
       "      <td>30.2085</td>\n",
       "      <td>5.3</td>\n",
       "    </tr>\n",
       "  </tbody>\n",
       "</table>\n",
       "</div>"
      ],
      "text/plain": [
       "    Invoice ID Branch       City Customer type  Gender  \\\n",
       "0  750-67-8428      A     Yangon        Member  Female   \n",
       "1  226-31-3081      C  Naypyitaw        Normal  Female   \n",
       "2  631-41-3108      A     Yangon        Normal    Male   \n",
       "3  123-19-1176      A     Yangon        Member    Male   \n",
       "4  373-73-7910      A     Yangon        Normal    Male   \n",
       "\n",
       "             Product line  Unit price  Quantity   Tax 5%     Total       Date  \\\n",
       "0       Health and beauty       74.69         7  26.1415  548.9715   1/5/2019   \n",
       "1  Electronic accessories       15.28         5   3.8200   80.2200   3/8/2019   \n",
       "2      Home and lifestyle       46.33         7  16.2155  340.5255   3/3/2019   \n",
       "3       Health and beauty       58.22         8  23.2880  489.0480  1/27/2019   \n",
       "4       Sports and travel       86.31         7  30.2085  634.3785   2/8/2019   \n",
       "\n",
       "    Time      Payment    cogs  gross margin percentage  gross income  Rating  \n",
       "0  13:08      Ewallet  522.83                 4.761905       26.1415     9.1  \n",
       "1  10:29         Cash   76.40                 4.761905        3.8200     9.6  \n",
       "2  13:23  Credit card  324.31                 4.761905       16.2155     7.4  \n",
       "3  20:33      Ewallet  465.76                 4.761905       23.2880     8.4  \n",
       "4  10:37      Ewallet  604.17                 4.761905       30.2085     5.3  "
      ]
     },
     "execution_count": 130,
     "metadata": {},
     "output_type": "execute_result"
    }
   ],
   "source": [
    "# 1. Load the dataset and display the first 5 rows.\n",
    "import numpy as np\n",
    "import pandas as pd\n",
    "import seaborn as sns\n",
    "super_market_df=pd.read_csv('supermarket_sales - Sheet1.csv')\n",
    "super_market_df.head(5)"
   ]
  },
  {
   "cell_type": "code",
   "execution_count": 131,
   "id": "b6d13486-c73a-4517-b3f0-8e47d409ced9",
   "metadata": {},
   "outputs": [
    {
     "name": "stdout",
     "output_type": "stream",
     "text": [
      "<class 'pandas.core.frame.DataFrame'>\n",
      "RangeIndex: 1000 entries, 0 to 999\n",
      "Data columns (total 17 columns):\n",
      " #   Column                   Non-Null Count  Dtype  \n",
      "---  ------                   --------------  -----  \n",
      " 0   Invoice ID               1000 non-null   object \n",
      " 1   Branch                   1000 non-null   object \n",
      " 2   City                     1000 non-null   object \n",
      " 3   Customer type            1000 non-null   object \n",
      " 4   Gender                   1000 non-null   object \n",
      " 5   Product line             1000 non-null   object \n",
      " 6   Unit price               1000 non-null   float64\n",
      " 7   Quantity                 1000 non-null   int64  \n",
      " 8   Tax 5%                   1000 non-null   float64\n",
      " 9   Total                    1000 non-null   float64\n",
      " 10  Date                     1000 non-null   object \n",
      " 11  Time                     1000 non-null   object \n",
      " 12  Payment                  1000 non-null   object \n",
      " 13  cogs                     1000 non-null   float64\n",
      " 14  gross margin percentage  1000 non-null   float64\n",
      " 15  gross income             1000 non-null   float64\n",
      " 16  Rating                   1000 non-null   float64\n",
      "dtypes: float64(7), int64(1), object(9)\n",
      "memory usage: 132.9+ KB\n"
     ]
    }
   ],
   "source": [
    "# 2. Check the datatype of each column in the dataset\n",
    "super_market_df.info()"
   ]
  },
  {
   "cell_type": "code",
   "execution_count": 132,
   "id": "d198eb8a-28c7-4b4b-b26c-515a10e95ff8",
   "metadata": {},
   "outputs": [
    {
     "data": {
      "text/plain": [
       "(1000, 17)"
      ]
     },
     "execution_count": 132,
     "metadata": {},
     "output_type": "execute_result"
    }
   ],
   "source": [
    "# 3. Find the total number of transactions in the dataset\n",
    "super_market_df.shape"
   ]
  },
  {
   "cell_type": "code",
   "execution_count": 133,
   "id": "c94121de-d3df-4d86-a926-ccc20029f269",
   "metadata": {},
   "outputs": [
    {
     "data": {
      "text/plain": [
       "array(['Member', 'Normal'], dtype=object)"
      ]
     },
     "execution_count": 133,
     "metadata": {},
     "output_type": "execute_result"
    }
   ],
   "source": [
    "\n",
    "# 4. List all the unique 'Customer Types' present in the dataset\n",
    "super_market_df['Customer type'].unique()"
   ]
  },
  {
   "cell_type": "code",
   "execution_count": 134,
   "id": "d3692a4c-8551-4bb5-84d7-af4d570080bf",
   "metadata": {},
   "outputs": [
    {
     "data": {
      "text/plain": [
       "(344, 17)"
      ]
     },
     "execution_count": 134,
     "metadata": {},
     "output_type": "execute_result"
    }
   ],
   "source": [
    "# 5. Find the number of transactions where the payment method is 'Cash'.\n",
    "super_market_df[super_market_df['Payment']=='Cash'].shape "
   ]
  },
  {
   "cell_type": "code",
   "execution_count": 135,
   "id": "65fae142-0dcf-4d6d-b230-08682b1e6ffa",
   "metadata": {},
   "outputs": [
    {
     "data": {
      "text/html": [
       "<div>\n",
       "<style scoped>\n",
       "    .dataframe tbody tr th:only-of-type {\n",
       "        vertical-align: middle;\n",
       "    }\n",
       "\n",
       "    .dataframe tbody tr th {\n",
       "        vertical-align: top;\n",
       "    }\n",
       "\n",
       "    .dataframe thead th {\n",
       "        text-align: right;\n",
       "    }\n",
       "</style>\n",
       "<table border=\"1\" class=\"dataframe\">\n",
       "  <thead>\n",
       "    <tr style=\"text-align: right;\">\n",
       "      <th></th>\n",
       "      <th>Invoice ID</th>\n",
       "      <th>Branch</th>\n",
       "      <th>City</th>\n",
       "      <th>Customer type</th>\n",
       "      <th>Gender</th>\n",
       "      <th>Product line</th>\n",
       "      <th>Unit price</th>\n",
       "      <th>Quantity</th>\n",
       "      <th>Tax 5%</th>\n",
       "      <th>Total</th>\n",
       "      <th>Date</th>\n",
       "      <th>Time</th>\n",
       "      <th>Payment</th>\n",
       "      <th>cogs</th>\n",
       "      <th>gross margin percentage</th>\n",
       "      <th>gross income</th>\n",
       "      <th>Rating</th>\n",
       "    </tr>\n",
       "  </thead>\n",
       "  <tbody>\n",
       "    <tr>\n",
       "      <th>0</th>\n",
       "      <td>750-67-8428</td>\n",
       "      <td>A</td>\n",
       "      <td>Yangon</td>\n",
       "      <td>Member</td>\n",
       "      <td>Female</td>\n",
       "      <td>Health and beauty</td>\n",
       "      <td>74.69</td>\n",
       "      <td>7</td>\n",
       "      <td>26.1415</td>\n",
       "      <td>548.9715</td>\n",
       "      <td>1/5/2019</td>\n",
       "      <td>13:08</td>\n",
       "      <td>Ewallet</td>\n",
       "      <td>522.83</td>\n",
       "      <td>4.761905</td>\n",
       "      <td>26.1415</td>\n",
       "      <td>9.1</td>\n",
       "    </tr>\n",
       "    <tr>\n",
       "      <th>2</th>\n",
       "      <td>631-41-3108</td>\n",
       "      <td>A</td>\n",
       "      <td>Yangon</td>\n",
       "      <td>Normal</td>\n",
       "      <td>Male</td>\n",
       "      <td>Home and lifestyle</td>\n",
       "      <td>46.33</td>\n",
       "      <td>7</td>\n",
       "      <td>16.2155</td>\n",
       "      <td>340.5255</td>\n",
       "      <td>3/3/2019</td>\n",
       "      <td>13:23</td>\n",
       "      <td>Credit card</td>\n",
       "      <td>324.31</td>\n",
       "      <td>4.761905</td>\n",
       "      <td>16.2155</td>\n",
       "      <td>7.4</td>\n",
       "    </tr>\n",
       "    <tr>\n",
       "      <th>3</th>\n",
       "      <td>123-19-1176</td>\n",
       "      <td>A</td>\n",
       "      <td>Yangon</td>\n",
       "      <td>Member</td>\n",
       "      <td>Male</td>\n",
       "      <td>Health and beauty</td>\n",
       "      <td>58.22</td>\n",
       "      <td>8</td>\n",
       "      <td>23.2880</td>\n",
       "      <td>489.0480</td>\n",
       "      <td>1/27/2019</td>\n",
       "      <td>20:33</td>\n",
       "      <td>Ewallet</td>\n",
       "      <td>465.76</td>\n",
       "      <td>4.761905</td>\n",
       "      <td>23.2880</td>\n",
       "      <td>8.4</td>\n",
       "    </tr>\n",
       "    <tr>\n",
       "      <th>4</th>\n",
       "      <td>373-73-7910</td>\n",
       "      <td>A</td>\n",
       "      <td>Yangon</td>\n",
       "      <td>Normal</td>\n",
       "      <td>Male</td>\n",
       "      <td>Sports and travel</td>\n",
       "      <td>86.31</td>\n",
       "      <td>7</td>\n",
       "      <td>30.2085</td>\n",
       "      <td>634.3785</td>\n",
       "      <td>2/8/2019</td>\n",
       "      <td>10:37</td>\n",
       "      <td>Ewallet</td>\n",
       "      <td>604.17</td>\n",
       "      <td>4.761905</td>\n",
       "      <td>30.2085</td>\n",
       "      <td>5.3</td>\n",
       "    </tr>\n",
       "    <tr>\n",
       "      <th>6</th>\n",
       "      <td>355-53-5943</td>\n",
       "      <td>A</td>\n",
       "      <td>Yangon</td>\n",
       "      <td>Member</td>\n",
       "      <td>Female</td>\n",
       "      <td>Electronic accessories</td>\n",
       "      <td>68.84</td>\n",
       "      <td>6</td>\n",
       "      <td>20.6520</td>\n",
       "      <td>433.6920</td>\n",
       "      <td>2/25/2019</td>\n",
       "      <td>14:36</td>\n",
       "      <td>Ewallet</td>\n",
       "      <td>413.04</td>\n",
       "      <td>4.761905</td>\n",
       "      <td>20.6520</td>\n",
       "      <td>5.8</td>\n",
       "    </tr>\n",
       "    <tr>\n",
       "      <th>8</th>\n",
       "      <td>665-32-9167</td>\n",
       "      <td>A</td>\n",
       "      <td>Yangon</td>\n",
       "      <td>Member</td>\n",
       "      <td>Female</td>\n",
       "      <td>Health and beauty</td>\n",
       "      <td>36.26</td>\n",
       "      <td>2</td>\n",
       "      <td>3.6260</td>\n",
       "      <td>76.1460</td>\n",
       "      <td>1/10/2019</td>\n",
       "      <td>17:15</td>\n",
       "      <td>Credit card</td>\n",
       "      <td>72.52</td>\n",
       "      <td>4.761905</td>\n",
       "      <td>3.6260</td>\n",
       "      <td>7.2</td>\n",
       "    </tr>\n",
       "    <tr>\n",
       "      <th>12</th>\n",
       "      <td>365-64-0515</td>\n",
       "      <td>A</td>\n",
       "      <td>Yangon</td>\n",
       "      <td>Normal</td>\n",
       "      <td>Female</td>\n",
       "      <td>Electronic accessories</td>\n",
       "      <td>46.95</td>\n",
       "      <td>5</td>\n",
       "      <td>11.7375</td>\n",
       "      <td>246.4875</td>\n",
       "      <td>2/12/2019</td>\n",
       "      <td>10:25</td>\n",
       "      <td>Ewallet</td>\n",
       "      <td>234.75</td>\n",
       "      <td>4.761905</td>\n",
       "      <td>11.7375</td>\n",
       "      <td>7.1</td>\n",
       "    </tr>\n",
       "    <tr>\n",
       "      <th>13</th>\n",
       "      <td>252-56-2699</td>\n",
       "      <td>A</td>\n",
       "      <td>Yangon</td>\n",
       "      <td>Normal</td>\n",
       "      <td>Male</td>\n",
       "      <td>Food and beverages</td>\n",
       "      <td>43.19</td>\n",
       "      <td>10</td>\n",
       "      <td>21.5950</td>\n",
       "      <td>453.4950</td>\n",
       "      <td>2/7/2019</td>\n",
       "      <td>16:48</td>\n",
       "      <td>Ewallet</td>\n",
       "      <td>431.90</td>\n",
       "      <td>4.761905</td>\n",
       "      <td>21.5950</td>\n",
       "      <td>8.2</td>\n",
       "    </tr>\n",
       "    <tr>\n",
       "      <th>14</th>\n",
       "      <td>829-34-3910</td>\n",
       "      <td>A</td>\n",
       "      <td>Yangon</td>\n",
       "      <td>Normal</td>\n",
       "      <td>Female</td>\n",
       "      <td>Health and beauty</td>\n",
       "      <td>71.38</td>\n",
       "      <td>10</td>\n",
       "      <td>35.6900</td>\n",
       "      <td>749.4900</td>\n",
       "      <td>3/29/2019</td>\n",
       "      <td>19:21</td>\n",
       "      <td>Cash</td>\n",
       "      <td>713.80</td>\n",
       "      <td>4.761905</td>\n",
       "      <td>35.6900</td>\n",
       "      <td>5.7</td>\n",
       "    </tr>\n",
       "    <tr>\n",
       "      <th>16</th>\n",
       "      <td>656-95-9349</td>\n",
       "      <td>A</td>\n",
       "      <td>Yangon</td>\n",
       "      <td>Member</td>\n",
       "      <td>Female</td>\n",
       "      <td>Health and beauty</td>\n",
       "      <td>68.93</td>\n",
       "      <td>7</td>\n",
       "      <td>24.1255</td>\n",
       "      <td>506.6355</td>\n",
       "      <td>3/11/2019</td>\n",
       "      <td>11:03</td>\n",
       "      <td>Credit card</td>\n",
       "      <td>482.51</td>\n",
       "      <td>4.761905</td>\n",
       "      <td>24.1255</td>\n",
       "      <td>4.6</td>\n",
       "    </tr>\n",
       "  </tbody>\n",
       "</table>\n",
       "</div>"
      ],
      "text/plain": [
       "     Invoice ID Branch    City Customer type  Gender            Product line  \\\n",
       "0   750-67-8428      A  Yangon        Member  Female       Health and beauty   \n",
       "2   631-41-3108      A  Yangon        Normal    Male      Home and lifestyle   \n",
       "3   123-19-1176      A  Yangon        Member    Male       Health and beauty   \n",
       "4   373-73-7910      A  Yangon        Normal    Male       Sports and travel   \n",
       "6   355-53-5943      A  Yangon        Member  Female  Electronic accessories   \n",
       "8   665-32-9167      A  Yangon        Member  Female       Health and beauty   \n",
       "12  365-64-0515      A  Yangon        Normal  Female  Electronic accessories   \n",
       "13  252-56-2699      A  Yangon        Normal    Male      Food and beverages   \n",
       "14  829-34-3910      A  Yangon        Normal  Female       Health and beauty   \n",
       "16  656-95-9349      A  Yangon        Member  Female       Health and beauty   \n",
       "\n",
       "    Unit price  Quantity   Tax 5%     Total       Date   Time      Payment  \\\n",
       "0        74.69         7  26.1415  548.9715   1/5/2019  13:08      Ewallet   \n",
       "2        46.33         7  16.2155  340.5255   3/3/2019  13:23  Credit card   \n",
       "3        58.22         8  23.2880  489.0480  1/27/2019  20:33      Ewallet   \n",
       "4        86.31         7  30.2085  634.3785   2/8/2019  10:37      Ewallet   \n",
       "6        68.84         6  20.6520  433.6920  2/25/2019  14:36      Ewallet   \n",
       "8        36.26         2   3.6260   76.1460  1/10/2019  17:15  Credit card   \n",
       "12       46.95         5  11.7375  246.4875  2/12/2019  10:25      Ewallet   \n",
       "13       43.19        10  21.5950  453.4950   2/7/2019  16:48      Ewallet   \n",
       "14       71.38        10  35.6900  749.4900  3/29/2019  19:21         Cash   \n",
       "16       68.93         7  24.1255  506.6355  3/11/2019  11:03  Credit card   \n",
       "\n",
       "      cogs  gross margin percentage  gross income  Rating  \n",
       "0   522.83                 4.761905       26.1415     9.1  \n",
       "2   324.31                 4.761905       16.2155     7.4  \n",
       "3   465.76                 4.761905       23.2880     8.4  \n",
       "4   604.17                 4.761905       30.2085     5.3  \n",
       "6   413.04                 4.761905       20.6520     5.8  \n",
       "8    72.52                 4.761905        3.6260     7.2  \n",
       "12  234.75                 4.761905       11.7375     7.1  \n",
       "13  431.90                 4.761905       21.5950     8.2  \n",
       "14  713.80                 4.761905       35.6900     5.7  \n",
       "16  482.51                 4.761905       24.1255     4.6  "
      ]
     },
     "execution_count": 135,
     "metadata": {},
     "output_type": "execute_result"
    }
   ],
   "source": [
    "# 6. Display the first 10 transactions where the 'Branch' is 'A'.\n",
    "super_market_df[super_market_df['Branch']=='A'].head(10)"
   ]
  },
  {
   "cell_type": "code",
   "execution_count": 136,
   "id": "8af97c2f-6be4-411d-87fa-1328a2a8ba98",
   "metadata": {},
   "outputs": [
    {
     "data": {
      "text/html": [
       "<div>\n",
       "<style scoped>\n",
       "    .dataframe tbody tr th:only-of-type {\n",
       "        vertical-align: middle;\n",
       "    }\n",
       "\n",
       "    .dataframe tbody tr th {\n",
       "        vertical-align: top;\n",
       "    }\n",
       "\n",
       "    .dataframe thead th {\n",
       "        text-align: right;\n",
       "    }\n",
       "</style>\n",
       "<table border=\"1\" class=\"dataframe\">\n",
       "  <thead>\n",
       "    <tr style=\"text-align: right;\">\n",
       "      <th></th>\n",
       "      <th>Invoice ID</th>\n",
       "      <th>Branch</th>\n",
       "      <th>City</th>\n",
       "      <th>Customer type</th>\n",
       "      <th>Gender</th>\n",
       "      <th>Product line</th>\n",
       "      <th>Unit price</th>\n",
       "      <th>Quantity</th>\n",
       "      <th>Tax 5%</th>\n",
       "      <th>Total</th>\n",
       "      <th>Date</th>\n",
       "      <th>Time</th>\n",
       "      <th>Payment</th>\n",
       "      <th>cogs</th>\n",
       "      <th>gross margin percentage</th>\n",
       "      <th>gross income</th>\n",
       "      <th>Rating</th>\n",
       "    </tr>\n",
       "  </thead>\n",
       "  <tbody>\n",
       "    <tr>\n",
       "      <th>822</th>\n",
       "      <td>784-21-9238</td>\n",
       "      <td>C</td>\n",
       "      <td>Naypyitaw</td>\n",
       "      <td>Member</td>\n",
       "      <td>Male</td>\n",
       "      <td>Sports and travel</td>\n",
       "      <td>10.17</td>\n",
       "      <td>1</td>\n",
       "      <td>0.5085</td>\n",
       "      <td>10.6785</td>\n",
       "      <td>2/7/2019</td>\n",
       "      <td>14:15</td>\n",
       "      <td>Cash</td>\n",
       "      <td>10.17</td>\n",
       "      <td>4.761905</td>\n",
       "      <td>0.5085</td>\n",
       "      <td>5.9</td>\n",
       "    </tr>\n",
       "    <tr>\n",
       "      <th>629</th>\n",
       "      <td>308-39-1707</td>\n",
       "      <td>A</td>\n",
       "      <td>Yangon</td>\n",
       "      <td>Normal</td>\n",
       "      <td>Female</td>\n",
       "      <td>Fashion accessories</td>\n",
       "      <td>12.09</td>\n",
       "      <td>1</td>\n",
       "      <td>0.6045</td>\n",
       "      <td>12.6945</td>\n",
       "      <td>1/26/2019</td>\n",
       "      <td>18:19</td>\n",
       "      <td>Credit card</td>\n",
       "      <td>12.09</td>\n",
       "      <td>4.761905</td>\n",
       "      <td>0.6045</td>\n",
       "      <td>8.2</td>\n",
       "    </tr>\n",
       "    <tr>\n",
       "      <th>223</th>\n",
       "      <td>279-62-1445</td>\n",
       "      <td>C</td>\n",
       "      <td>Naypyitaw</td>\n",
       "      <td>Member</td>\n",
       "      <td>Female</td>\n",
       "      <td>Fashion accessories</td>\n",
       "      <td>12.54</td>\n",
       "      <td>1</td>\n",
       "      <td>0.6270</td>\n",
       "      <td>13.1670</td>\n",
       "      <td>2/21/2019</td>\n",
       "      <td>12:38</td>\n",
       "      <td>Cash</td>\n",
       "      <td>12.54</td>\n",
       "      <td>4.761905</td>\n",
       "      <td>0.6270</td>\n",
       "      <td>8.2</td>\n",
       "    </tr>\n",
       "    <tr>\n",
       "      <th>443</th>\n",
       "      <td>192-98-7397</td>\n",
       "      <td>C</td>\n",
       "      <td>Naypyitaw</td>\n",
       "      <td>Normal</td>\n",
       "      <td>Male</td>\n",
       "      <td>Fashion accessories</td>\n",
       "      <td>12.78</td>\n",
       "      <td>1</td>\n",
       "      <td>0.6390</td>\n",
       "      <td>13.4190</td>\n",
       "      <td>1/8/2019</td>\n",
       "      <td>14:11</td>\n",
       "      <td>Ewallet</td>\n",
       "      <td>12.78</td>\n",
       "      <td>4.761905</td>\n",
       "      <td>0.6390</td>\n",
       "      <td>9.5</td>\n",
       "    </tr>\n",
       "    <tr>\n",
       "      <th>402</th>\n",
       "      <td>236-86-3015</td>\n",
       "      <td>C</td>\n",
       "      <td>Naypyitaw</td>\n",
       "      <td>Member</td>\n",
       "      <td>Male</td>\n",
       "      <td>Home and lifestyle</td>\n",
       "      <td>13.98</td>\n",
       "      <td>1</td>\n",
       "      <td>0.6990</td>\n",
       "      <td>14.6790</td>\n",
       "      <td>2/4/2019</td>\n",
       "      <td>13:38</td>\n",
       "      <td>Ewallet</td>\n",
       "      <td>13.98</td>\n",
       "      <td>4.761905</td>\n",
       "      <td>0.6990</td>\n",
       "      <td>9.8</td>\n",
       "    </tr>\n",
       "  </tbody>\n",
       "</table>\n",
       "</div>"
      ],
      "text/plain": [
       "      Invoice ID Branch       City Customer type  Gender         Product line  \\\n",
       "822  784-21-9238      C  Naypyitaw        Member    Male    Sports and travel   \n",
       "629  308-39-1707      A     Yangon        Normal  Female  Fashion accessories   \n",
       "223  279-62-1445      C  Naypyitaw        Member  Female  Fashion accessories   \n",
       "443  192-98-7397      C  Naypyitaw        Normal    Male  Fashion accessories   \n",
       "402  236-86-3015      C  Naypyitaw        Member    Male   Home and lifestyle   \n",
       "\n",
       "     Unit price  Quantity  Tax 5%    Total       Date   Time      Payment  \\\n",
       "822       10.17         1  0.5085  10.6785   2/7/2019  14:15         Cash   \n",
       "629       12.09         1  0.6045  12.6945  1/26/2019  18:19  Credit card   \n",
       "223       12.54         1  0.6270  13.1670  2/21/2019  12:38         Cash   \n",
       "443       12.78         1  0.6390  13.4190   1/8/2019  14:11      Ewallet   \n",
       "402       13.98         1  0.6990  14.6790   2/4/2019  13:38      Ewallet   \n",
       "\n",
       "      cogs  gross margin percentage  gross income  Rating  \n",
       "822  10.17                 4.761905        0.5085     5.9  \n",
       "629  12.09                 4.761905        0.6045     8.2  \n",
       "223  12.54                 4.761905        0.6270     8.2  \n",
       "443  12.78                 4.761905        0.6390     9.5  \n",
       "402  13.98                 4.761905        0.6990     9.8  "
      ]
     },
     "execution_count": 136,
     "metadata": {},
     "output_type": "execute_result"
    }
   ],
   "source": [
    "# 7. Sort the dataset by 'Total' in descending order and display the top 5 rows.\n",
    "super_market_df.sort_values('Total').head(5)"
   ]
  },
  {
   "cell_type": "code",
   "execution_count": 137,
   "id": "2c00852f-d25e-41c7-9585-3b35e7307eef",
   "metadata": {},
   "outputs": [
    {
     "data": {
      "text/plain": [
       "854"
      ]
     },
     "execution_count": 137,
     "metadata": {},
     "output_type": "execute_result"
    }
   ],
   "source": [
    "# 8. Find the total 'Quantity' sold for the product line 'Health and Beauty'\n",
    "\n",
    "df_by_product=super_market_df[super_market_df['Product line']=='Health and beauty']\n",
    "int(df_by_product['Quantity'].sum())"
   ]
  },
  {
   "cell_type": "code",
   "execution_count": 138,
   "id": "12ce5656-e496-403c-b39f-d7e871b524bb",
   "metadata": {},
   "outputs": [
    {
     "name": "stdout",
     "output_type": "stream",
     "text": [
      "<class 'pandas.core.frame.DataFrame'>\n",
      "RangeIndex: 1000 entries, 0 to 999\n",
      "Data columns (total 17 columns):\n",
      " #   Column                   Non-Null Count  Dtype  \n",
      "---  ------                   --------------  -----  \n",
      " 0   Invoice ID               1000 non-null   object \n",
      " 1   Branch                   1000 non-null   object \n",
      " 2   City                     1000 non-null   object \n",
      " 3   Customer type            1000 non-null   object \n",
      " 4   Gender                   1000 non-null   object \n",
      " 5   Product line             1000 non-null   object \n",
      " 6   Unit price               1000 non-null   float64\n",
      " 7   Quantity                 1000 non-null   int64  \n",
      " 8   Tax 5%                   1000 non-null   float64\n",
      " 9   Total                    1000 non-null   float64\n",
      " 10  Date                     1000 non-null   object \n",
      " 11  Time                     1000 non-null   object \n",
      " 12  Payment                  1000 non-null   object \n",
      " 13  cogs                     1000 non-null   float64\n",
      " 14  gross margin percentage  1000 non-null   float64\n",
      " 15  gross income             1000 non-null   float64\n",
      " 16  Rating                   1000 non-null   float64\n",
      "dtypes: float64(7), int64(1), object(9)\n",
      "memory usage: 132.9+ KB\n"
     ]
    }
   ],
   "source": [
    "# 9. Check for any missing values in the dataset and display the columns with missing\n",
    "# values, if any\n",
    "super_market_df.info()"
   ]
  },
  {
   "cell_type": "code",
   "execution_count": 139,
   "id": "5a4c8ece-a22f-44d2-9fb3-34d150158c50",
   "metadata": {},
   "outputs": [
    {
     "name": "stdout",
     "output_type": "stream",
     "text": [
      "<class 'pandas.core.frame.DataFrame'>\n",
      "RangeIndex: 1000 entries, 0 to 999\n",
      "Data columns (total 17 columns):\n",
      " #   Column                   Non-Null Count  Dtype         \n",
      "---  ------                   --------------  -----         \n",
      " 0   Invoice ID               1000 non-null   object        \n",
      " 1   Branch                   1000 non-null   object        \n",
      " 2   City                     1000 non-null   object        \n",
      " 3   Customer type            1000 non-null   object        \n",
      " 4   Gender                   1000 non-null   object        \n",
      " 5   Product line             1000 non-null   object        \n",
      " 6   Unit price               1000 non-null   float64       \n",
      " 7   Quantity                 1000 non-null   int64         \n",
      " 8   Tax 5%                   1000 non-null   float64       \n",
      " 9   Total                    1000 non-null   float64       \n",
      " 10  Date                     1000 non-null   datetime64[ns]\n",
      " 11  Time                     1000 non-null   object        \n",
      " 12  Payment                  1000 non-null   object        \n",
      " 13  cogs                     1000 non-null   float64       \n",
      " 14  gross margin percentage  1000 non-null   float64       \n",
      " 15  gross income             1000 non-null   float64       \n",
      " 16  Rating                   1000 non-null   float64       \n",
      "dtypes: datetime64[ns](1), float64(7), int64(1), object(8)\n",
      "memory usage: 132.9+ KB\n"
     ]
    }
   ],
   "source": [
    "# 10. Convert the 'Date' column into a datetime format.\n",
    "super_market_df['Date']=super_market_df['Date'].astype('datetime64[ns]')\n",
    "super_market_df.info()"
   ]
  },
  {
   "cell_type": "markdown",
   "id": "2ed3c447-2a26-492b-be44-b6b37234c019",
   "metadata": {},
   "source": [
    "# Intermediate Questions (5 marks each)"
   ]
  },
  {
   "cell_type": "code",
   "execution_count": 140,
   "id": "25a33dcc-f8da-4f08-ac54-304c7d4f3840",
   "metadata": {},
   "outputs": [
    {
     "data": {
      "text/plain": [
       "Product line\n",
       "Electronic accessories    319.632538\n",
       "Fashion accessories       305.089298\n",
       "Food and beverages        322.671517\n",
       "Health and beauty         323.643020\n",
       "Home and lifestyle        336.636956\n",
       "Sports and travel         332.065220\n",
       "Name: Total, dtype: float64"
      ]
     },
     "execution_count": 140,
     "metadata": {},
     "output_type": "execute_result"
    }
   ],
   "source": [
    "# 1. Calculate the average 'Total' for each 'Product Line'.\n",
    "super_market_df.groupby('Product line')['Total'].mean()"
   ]
  },
  {
   "cell_type": "code",
   "execution_count": 141,
   "id": "3d65e5fb-e2b5-4dff-860d-42edf6eafc70",
   "metadata": {},
   "outputs": [
    {
     "data": {
      "text/plain": [
       "City\n",
       "Mandalay     5057.0320\n",
       "Naypyitaw    5265.1765\n",
       "Yangon       5057.1605\n",
       "Name: gross income, dtype: float64"
      ]
     },
     "execution_count": 141,
     "metadata": {},
     "output_type": "execute_result"
    }
   ],
   "source": [
    "# 2. Group the data by 'City' and find the sum of 'Gross Income' for each city\n",
    "super_market_df.groupby('City')['gross income'].sum()"
   ]
  },
  {
   "cell_type": "code",
   "execution_count": 142,
   "id": "7b354fab-6656-47b6-9c94-5af6f500561d",
   "metadata": {},
   "outputs": [
    {
     "data": {
      "text/html": [
       "<div>\n",
       "<style scoped>\n",
       "    .dataframe tbody tr th:only-of-type {\n",
       "        vertical-align: middle;\n",
       "    }\n",
       "\n",
       "    .dataframe tbody tr th {\n",
       "        vertical-align: top;\n",
       "    }\n",
       "\n",
       "    .dataframe thead th {\n",
       "        text-align: right;\n",
       "    }\n",
       "</style>\n",
       "<table border=\"1\" class=\"dataframe\">\n",
       "  <thead>\n",
       "    <tr style=\"text-align: right;\">\n",
       "      <th></th>\n",
       "      <th>Total</th>\n",
       "      <th>Total Including Tax</th>\n",
       "    </tr>\n",
       "  </thead>\n",
       "  <tbody>\n",
       "    <tr>\n",
       "      <th>0</th>\n",
       "      <td>548.9715</td>\n",
       "      <td>576.420075</td>\n",
       "    </tr>\n",
       "  </tbody>\n",
       "</table>\n",
       "</div>"
      ],
      "text/plain": [
       "      Total  Total Including Tax\n",
       "0  548.9715           576.420075"
      ]
     },
     "execution_count": 142,
     "metadata": {},
     "output_type": "execute_result"
    }
   ],
   "source": [
    "# 3. Create a new column 'Total Including Tax' by adding 'Tax 5%' to 'Total'\n",
    "super_market_df['Total Including Tax']=super_market_df['Total']+0.05*super_market_df['Total']\n",
    "super_market_df[['Total','Total Including Tax']].head(1)\n"
   ]
  },
  {
   "cell_type": "code",
   "execution_count": 143,
   "id": "268e7fe7-ee4e-4c3d-bf5b-2fa513408c7f",
   "metadata": {},
   "outputs": [
    {
     "data": {
      "text/plain": [
       "Customer type\n",
       "Member    501\n",
       "Normal    499\n",
       "Name: Total, dtype: int64"
      ]
     },
     "execution_count": 143,
     "metadata": {},
     "output_type": "execute_result"
    }
   ],
   "source": [
    "# 4. Find the total number of transactions made by 'Members' and 'Normal' customers.\n",
    "super_market_df.pivot_table(index='Customer type',aggfunc='count')['Total']\n"
   ]
  },
  {
   "cell_type": "code",
   "execution_count": 144,
   "id": "ad8e5d2d-dd75-476a-a3f1-986b4da4358a",
   "metadata": {},
   "outputs": [
    {
     "data": {
      "text/html": [
       "<div>\n",
       "<style scoped>\n",
       "    .dataframe tbody tr th:only-of-type {\n",
       "        vertical-align: middle;\n",
       "    }\n",
       "\n",
       "    .dataframe tbody tr th {\n",
       "        vertical-align: top;\n",
       "    }\n",
       "\n",
       "    .dataframe thead th {\n",
       "        text-align: right;\n",
       "    }\n",
       "</style>\n",
       "<table border=\"1\" class=\"dataframe\">\n",
       "  <thead>\n",
       "    <tr style=\"text-align: right;\">\n",
       "      <th></th>\n",
       "      <th>Invoice ID</th>\n",
       "      <th>Branch</th>\n",
       "      <th>City</th>\n",
       "      <th>Customer type</th>\n",
       "      <th>Gender</th>\n",
       "      <th>Product line</th>\n",
       "      <th>Unit price</th>\n",
       "      <th>Quantity</th>\n",
       "      <th>Tax 5%</th>\n",
       "      <th>Total</th>\n",
       "      <th>Date</th>\n",
       "      <th>Time</th>\n",
       "      <th>Payment</th>\n",
       "      <th>cogs</th>\n",
       "      <th>gross margin percentage</th>\n",
       "      <th>gross income</th>\n",
       "      <th>Rating</th>\n",
       "      <th>Total Including Tax</th>\n",
       "    </tr>\n",
       "  </thead>\n",
       "  <tbody>\n",
       "    <tr>\n",
       "      <th>0</th>\n",
       "      <td>750-67-8428</td>\n",
       "      <td>A</td>\n",
       "      <td>Yangon</td>\n",
       "      <td>Member</td>\n",
       "      <td>Female</td>\n",
       "      <td>Health and beauty</td>\n",
       "      <td>74.69</td>\n",
       "      <td>7</td>\n",
       "      <td>26.1415</td>\n",
       "      <td>548.9715</td>\n",
       "      <td>2019-01-05</td>\n",
       "      <td>13:08</td>\n",
       "      <td>Ewallet</td>\n",
       "      <td>522.83</td>\n",
       "      <td>4.761905</td>\n",
       "      <td>26.1415</td>\n",
       "      <td>9.1</td>\n",
       "      <td>576.420075</td>\n",
       "    </tr>\n",
       "    <tr>\n",
       "      <th>49</th>\n",
       "      <td>574-22-5561</td>\n",
       "      <td>C</td>\n",
       "      <td>Naypyitaw</td>\n",
       "      <td>Member</td>\n",
       "      <td>Female</td>\n",
       "      <td>Fashion accessories</td>\n",
       "      <td>82.63</td>\n",
       "      <td>10</td>\n",
       "      <td>41.3150</td>\n",
       "      <td>867.6150</td>\n",
       "      <td>2019-03-19</td>\n",
       "      <td>17:08</td>\n",
       "      <td>Ewallet</td>\n",
       "      <td>826.30</td>\n",
       "      <td>4.761905</td>\n",
       "      <td>41.3150</td>\n",
       "      <td>7.9</td>\n",
       "      <td>910.995750</td>\n",
       "    </tr>\n",
       "  </tbody>\n",
       "</table>\n",
       "</div>"
      ],
      "text/plain": [
       "     Invoice ID Branch       City Customer type  Gender         Product line  \\\n",
       "0   750-67-8428      A     Yangon        Member  Female    Health and beauty   \n",
       "49  574-22-5561      C  Naypyitaw        Member  Female  Fashion accessories   \n",
       "\n",
       "    Unit price  Quantity   Tax 5%     Total       Date   Time  Payment  \\\n",
       "0        74.69         7  26.1415  548.9715 2019-01-05  13:08  Ewallet   \n",
       "49       82.63        10  41.3150  867.6150 2019-03-19  17:08  Ewallet   \n",
       "\n",
       "      cogs  gross margin percentage  gross income  Rating  Total Including Tax  \n",
       "0   522.83                 4.761905       26.1415     9.1           576.420075  \n",
       "49  826.30                 4.761905       41.3150     7.9           910.995750  "
      ]
     },
     "execution_count": 144,
     "metadata": {},
     "output_type": "execute_result"
    }
   ],
   "source": [
    "# 5. Filter the dataset to show transactions where the 'Payment' method is 'Ewallet' and\n",
    "# the 'Total' is greater than 500.\n",
    "df_payment_total=super_market_df[(super_market_df['Customer type']=='Member') & (super_market_df['Payment']=='Ewallet')& (super_market_df['Total']>500)]\n",
    "df_payment_total.head(2)"
   ]
  },
  {
   "cell_type": "code",
   "execution_count": 145,
   "id": "2e188422-b2ff-4bd3-ad22-b9f8edb075b6",
   "metadata": {},
   "outputs": [
    {
     "data": {
      "text/plain": [
       "Product line\n",
       "Electronic accessories    10.0\n",
       "Fashion accessories        9.9\n",
       "Food and beverages         9.9\n",
       "Health and beauty         10.0\n",
       "Home and lifestyle         9.9\n",
       "Sports and travel         10.0\n",
       "Name: Rating, dtype: float64"
      ]
     },
     "execution_count": 145,
     "metadata": {},
     "output_type": "execute_result"
    }
   ],
   "source": [
    "# 6. Find the highest 'Rating' received for each 'Product Line'.\n",
    "super_market_df.groupby('Product line')['Rating'].max()\n"
   ]
  },
  {
   "cell_type": "code",
   "execution_count": 146,
   "id": "d02b90c4-e66b-418b-ae6b-bedbba672ed8",
   "metadata": {},
   "outputs": [
    {
     "data": {
      "text/plain": [
       "Branch\n",
       "A    1859\n",
       "B    1820\n",
       "C    1831\n",
       "Name: Quantity, dtype: int64"
      ]
     },
     "execution_count": 146,
     "metadata": {},
     "output_type": "execute_result"
    }
   ],
   "source": [
    "# 7. Calculate the total 'Quantity' of products sold for each 'Branch'.\n",
    "super_market_df.groupby('Branch')['Quantity'].sum()\n"
   ]
  },
  {
   "cell_type": "code",
   "execution_count": 147,
   "id": "2d470063-cdfb-4fc2-a41d-7d3566af8887",
   "metadata": {},
   "outputs": [
    {
     "data": {
      "text/html": [
       "<div>\n",
       "<style scoped>\n",
       "    .dataframe tbody tr th:only-of-type {\n",
       "        vertical-align: middle;\n",
       "    }\n",
       "\n",
       "    .dataframe tbody tr th {\n",
       "        vertical-align: top;\n",
       "    }\n",
       "\n",
       "    .dataframe thead th {\n",
       "        text-align: right;\n",
       "    }\n",
       "</style>\n",
       "<table border=\"1\" class=\"dataframe\">\n",
       "  <thead>\n",
       "    <tr style=\"text-align: right;\">\n",
       "      <th></th>\n",
       "      <th>city</th>\n",
       "      <th>total_sum</th>\n",
       "    </tr>\n",
       "  </thead>\n",
       "  <tbody>\n",
       "    <tr>\n",
       "      <th>1</th>\n",
       "      <td>Naypyitaw</td>\n",
       "      <td>110568.7065</td>\n",
       "    </tr>\n",
       "    <tr>\n",
       "      <th>2</th>\n",
       "      <td>Yangon</td>\n",
       "      <td>106200.3705</td>\n",
       "    </tr>\n",
       "    <tr>\n",
       "      <th>0</th>\n",
       "      <td>Mandalay</td>\n",
       "      <td>106197.6720</td>\n",
       "    </tr>\n",
       "  </tbody>\n",
       "</table>\n",
       "</div>"
      ],
      "text/plain": [
       "        city    total_sum\n",
       "1  Naypyitaw  110568.7065\n",
       "2     Yangon  106200.3705\n",
       "0   Mandalay  106197.6720"
      ]
     },
     "execution_count": 147,
     "metadata": {},
     "output_type": "execute_result"
    }
   ],
   "source": [
    "# 8. Display the top 3 cities with the highest total sales ('Total').\n",
    "b=super_market_df.groupby('City')['Total'].sum()\n",
    "new_df=pd.DataFrame({'city':b.index,'total_sum':b.values})\n",
    "new_df.sort_values('total_sum',ascending=False).head(3)"
   ]
  },
  {
   "cell_type": "code",
   "execution_count": 148,
   "id": "71276a4a-5a0e-4a53-ad5d-a700df7d4851",
   "metadata": {},
   "outputs": [
    {
     "data": {
      "text/plain": [
       "0      9.1\n",
       "1      9.6\n",
       "2      7.4\n",
       "3      8.4\n",
       "4      5.3\n",
       "      ... \n",
       "995    6.2\n",
       "996    4.4\n",
       "997    7.7\n",
       "998    4.1\n",
       "999    6.6\n",
       "Name: Rating, Length: 1000, dtype: float64"
      ]
     },
     "execution_count": 148,
     "metadata": {},
     "output_type": "execute_result"
    }
   ],
   "source": [
    "# 9. Replace any missing values in the 'Rating' column with the median of the 'Rating'\n",
    "# column.\n",
    "super_market_df['Rating'].fillna(super_market_df['Rating'].median())"
   ]
  },
  {
   "cell_type": "code",
   "execution_count": 149,
   "id": "efdf18ce-f361-4bf9-9663-b484847a7625",
   "metadata": {},
   "outputs": [
    {
     "name": "stdout",
     "output_type": "stream",
     "text": [
      "<class 'pandas.core.series.Series'>\n",
      "RangeIndex: 1000 entries, 0 to 999\n",
      "Series name: Date\n",
      "Non-Null Count  Dtype         \n",
      "--------------  -----         \n",
      "1000 non-null   datetime64[ns]\n",
      "dtypes: datetime64[ns](1)\n",
      "memory usage: 7.9 KB\n"
     ]
    }
   ],
   "source": [
    "# super_market_df['Date']=super_market_df['Date'].apply(lambda t: t.strftime(\"%Y-%m-%d\")) \n",
    "\n",
    "super_market_df['Date'].info()"
   ]
  },
  {
   "cell_type": "markdown",
   "id": "56834eb7-4b92-4be5-8c52-fe9f48620960",
   "metadata": {},
   "source": [
    "# Advanced Questions (10 marks each)"
   ]
  },
  {
   "cell_type": "code",
   "execution_count": 150,
   "id": "16bc8ef7-d68a-4810-a2ba-43e4871d3839",
   "metadata": {},
   "outputs": [
    {
     "name": "stdout",
     "output_type": "stream",
     "text": [
      "<class 'pandas.core.series.Series'>\n",
      "RangeIndex: 1000 entries, 0 to 999\n",
      "Series name: Total\n",
      "Non-Null Count  Dtype  \n",
      "--------------  -----  \n",
      "1000 non-null   float64\n",
      "dtypes: float64(1)\n",
      "memory usage: 7.9 KB\n"
     ]
    }
   ],
   "source": [
    "# 1. Calculate the correlation between 'Quantity' and 'Total'\n",
    "super_market_df['Total'].info()"
   ]
  },
  {
   "cell_type": "code",
   "execution_count": 151,
   "id": "966150b7-658d-4c85-92b6-4b0b4d8cac5e",
   "metadata": {},
   "outputs": [
    {
     "data": {
      "text/html": [
       "<div>\n",
       "<style scoped>\n",
       "    .dataframe tbody tr th:only-of-type {\n",
       "        vertical-align: middle;\n",
       "    }\n",
       "\n",
       "    .dataframe tbody tr th {\n",
       "        vertical-align: top;\n",
       "    }\n",
       "\n",
       "    .dataframe thead th {\n",
       "        text-align: right;\n",
       "    }\n",
       "</style>\n",
       "<table border=\"1\" class=\"dataframe\">\n",
       "  <thead>\n",
       "    <tr style=\"text-align: right;\">\n",
       "      <th></th>\n",
       "      <th>Total</th>\n",
       "      <th>Quantity</th>\n",
       "    </tr>\n",
       "  </thead>\n",
       "  <tbody>\n",
       "    <tr>\n",
       "      <th>Total</th>\n",
       "      <td>1.00000</td>\n",
       "      <td>0.70551</td>\n",
       "    </tr>\n",
       "    <tr>\n",
       "      <th>Quantity</th>\n",
       "      <td>0.70551</td>\n",
       "      <td>1.00000</td>\n",
       "    </tr>\n",
       "  </tbody>\n",
       "</table>\n",
       "</div>"
      ],
      "text/plain": [
       "            Total  Quantity\n",
       "Total     1.00000   0.70551\n",
       "Quantity  0.70551   1.00000"
      ]
     },
     "execution_count": 151,
     "metadata": {},
     "output_type": "execute_result"
    }
   ],
   "source": [
    "# 1. Calculate the correlation between 'Quantity' and 'Total'.\n",
    "super_market_df[['Total','Quantity']].corr()"
   ]
  },
  {
   "cell_type": "code",
   "execution_count": 152,
   "id": "9370d622-c94a-4e77-af5a-4b85b059c8a9",
   "metadata": {},
   "outputs": [
    {
     "data": {
      "text/plain": [
       "Branch  Customer type\n",
       "A       Member           6.998802\n",
       "        Normal           7.054335\n",
       "B       Member           6.770303\n",
       "        Normal           6.865269\n",
       "C       Member           7.048521\n",
       "        Normal           7.098742\n",
       "Name: Rating, dtype: float64"
      ]
     },
     "execution_count": 152,
     "metadata": {},
     "output_type": "execute_result"
    }
   ],
   "source": [
    "# 2. Group the data by 'Branch' and 'Customer Type' and find the average 'Rating' for\n",
    "# each group\n",
    "super_market_df.groupby(['Branch','Customer type'])['Rating'].mean()"
   ]
  },
  {
   "cell_type": "code",
   "execution_count": 153,
   "id": "ed119963-d619-463e-80e7-a014aa639843",
   "metadata": {},
   "outputs": [
    {
     "data": {
      "text/plain": [
       "<Axes: xlabel='Product line'>"
      ]
     },
     "execution_count": 153,
     "metadata": {},
     "output_type": "execute_result"
    },
    {
     "data": {
      "image/png": "[encoded data removed]",
      "text/plain": [
       "<Figure size 640x480 with 1 Axes>"
      ]
     },
     "metadata": {},
     "output_type": "display_data"
    }
   ],
   "source": [
    "pivot_table_super_market=super_market_df.pivot_table(index='Product line',values='Total',aggfunc='sum')\n",
    "\n",
    "pivot_table_super_market['Product line']=pivot_table_super_market.index\n",
    "pivot_table_super_market.reset_index(drop=True, inplace=True)\n",
    "pivot_table_super_market.plot(kind='bar',x='Product line',y='Total')"
   ]
  },
  {
   "cell_type": "code",
   "execution_count": 154,
   "id": "08a86024-8059-4d3d-82d7-75b111b2f586",
   "metadata": {},
   "outputs": [
    {
     "data": {
      "text/html": [
       "<div>\n",
       "<style scoped>\n",
       "    .dataframe tbody tr th:only-of-type {\n",
       "        vertical-align: middle;\n",
       "    }\n",
       "\n",
       "    .dataframe tbody tr th {\n",
       "        vertical-align: top;\n",
       "    }\n",
       "\n",
       "    .dataframe thead th {\n",
       "        text-align: right;\n",
       "    }\n",
       "</style>\n",
       "<table border=\"1\" class=\"dataframe\">\n",
       "  <thead>\n",
       "    <tr style=\"text-align: right;\">\n",
       "      <th></th>\n",
       "      <th>Product line</th>\n",
       "      <th>gross income</th>\n",
       "    </tr>\n",
       "  </thead>\n",
       "  <tbody>\n",
       "    <tr>\n",
       "      <th>2</th>\n",
       "      <td>Food and beverages</td>\n",
       "      <td>2673.5640</td>\n",
       "    </tr>\n",
       "    <tr>\n",
       "      <th>5</th>\n",
       "      <td>Sports and travel</td>\n",
       "      <td>2624.8965</td>\n",
       "    </tr>\n",
       "    <tr>\n",
       "      <th>0</th>\n",
       "      <td>Electronic accessories</td>\n",
       "      <td>2587.5015</td>\n",
       "    </tr>\n",
       "  </tbody>\n",
       "</table>\n",
       "</div>"
      ],
      "text/plain": [
       "             Product line  gross income\n",
       "2      Food and beverages     2673.5640\n",
       "5       Sports and travel     2624.8965\n",
       "0  Electronic accessories     2587.5015"
      ]
     },
     "execution_count": 154,
     "metadata": {},
     "output_type": "execute_result"
    }
   ],
   "source": [
    "# 4. Determine the top 3 'Product Lines' with the highest 'Gross Income'.\n",
    "b=super_market_df.groupby('Product line')['gross income'].sum()\n",
    "new_df=pd.DataFrame({'Product line':b.index,'gross income':b.values})\n",
    "new_df.sort_values('gross income',ascending=False).head(3)"
   ]
  },
  {
   "cell_type": "code",
   "execution_count": 155,
   "id": "509a4313-2313-4c13-97cd-16cda85244ed",
   "metadata": {},
   "outputs": [
    {
     "data": {
      "text/plain": [
       "Payment      Customer type\n",
       "Cash         Member           168\n",
       "             Normal           176\n",
       "Credit card  Member           172\n",
       "             Normal           139\n",
       "Ewallet      Member           161\n",
       "             Normal           184\n",
       "Name: Rating, dtype: int64"
      ]
     },
     "execution_count": 155,
     "metadata": {},
     "output_type": "execute_result"
    }
   ],
   "source": [
    "# 5. Analyze patterns in the use of 'Payment' methods across different 'Customer Types\n",
    "super_market_df.groupby(['Payment','Customer type'])['Rating'].count()"
   ]
  },
  {
   "cell_type": "code",
   "execution_count": 156,
   "id": "5d2fb8bc-73aa-4d14-bd8a-960efd263bbd",
   "metadata": {},
   "outputs": [],
   "source": [
    "# 6. Calculate the cumulative sum of 'Gross Income' over time and plot it."
   ]
  },
  {
   "cell_type": "code",
   "execution_count": 157,
   "id": "47a0b77e-3469-44a2-9f3c-b9913a2b25d4",
   "metadata": {},
   "outputs": [
    {
     "data": {
      "text/plain": [
       "<seaborn.axisgrid.FacetGrid at 0x7e289343a710>"
      ]
     },
     "execution_count": 157,
     "metadata": {},
     "output_type": "execute_result"
    },
    {
     "data": {
      "image/png": "[encoded data removed]",
      "text/plain": [
       "<Figure size 500x500 with 1 Axes>"
      ]
     },
     "metadata": {},
     "output_type": "display_data"
    }
   ],
   "source": [
    "# # 7. Perform a time-series analysis to find the monthly trend in sales by grouping\n",
    "# # transactions by 'Date'.\n",
    "super_market_df['Month']=super_market_df['Date'].dt.strftime('%m')\n",
    "super_market_df['Month']=super_market_df['Month'].apply( lambda x:int(x))\n",
    "\n",
    "\n",
    "def change_numeric_to_month(x):\n",
    "  \n",
    "    if x==1:\n",
    "        return 'Jan'\n",
    "    elif x==2: \n",
    "        return 'Feb'\n",
    "    elif x==3: \n",
    "        return 'Mar'\n",
    "    elif x==4: \n",
    "        return 'Apr'\n",
    "    elif x==5: \n",
    "        return 'May'   \n",
    "    elif x==6: \n",
    "        return 'Jun' \n",
    "    elif x==7: \n",
    "        return 'Jul'\n",
    "    elif x==8: \n",
    "        return 'Aug'\n",
    "    elif x==9: \n",
    "        return 'Sep'\n",
    "    elif x==10: \n",
    "        return 'Oct'   \n",
    "    elif x==11: \n",
    "        return 'Nov' \n",
    "    elif x==12: \n",
    "        return 'Dec'     \n",
    "super_market_df['Month']=super_market_df['Month'].apply(change_numeric_to_month)\n",
    "grouped_data=super_market_df.groupby(['Month'])['Rating'].count()\n",
    "time_series_df=pd.DataFrame({'Month':grouped_data.index,'count':grouped_data.values})\n",
    "new_time_series_df=time_series_df.reindex([1,0,2])\n",
    "sns.relplot(data=new_time_series_df,x='Month',y='count',kind='line')"
   ]
  },
  {
   "cell_type": "code",
   "execution_count": 173,
   "id": "3f9d8385-9159-402b-b567-a72409065e4c",
   "metadata": {},
   "outputs": [
    {
     "data": {
      "text/plain": [
       "<seaborn.axisgrid.FacetGrid at 0x7e2891d554b0>"
      ]
     },
     "execution_count": 173,
     "metadata": {},
     "output_type": "execute_result"
    },
    {
     "data": {
      "image/png": "[encoded data removed]",
      "text/plain": [
       "<Figure size 500x500 with 1 Axes>"
      ]
     },
     "metadata": {},
     "output_type": "display_data"
    }
   ],
   "source": [
    "# # 8. Using the 'Rating' column, analyze if there is a correlation between customer\n",
    "# # satisfaction and the product line they purchase.\n",
    "plt.fif\n",
    "pivoted_table=super_market_df.groupby(['Product line'])['Rating'].mean()\n",
    "a=pd.DataFrame({'product':pivoted_table.index,'rating':pivoted_table.values})\n",
    "sns.line(data=a,x='product',y='rating',kind='line')"
   ]
  },
  {
   "cell_type": "code",
   "execution_count": null,
   "id": "9c43b49c-13ae-401b-839f-0e8f373432fa",
   "metadata": {},
   "outputs": [],
   "source": []
  }
 ],
 "metadata": {
  "kernelspec": {
   "display_name": "Python 3 (ipykernel)",
   "language": "python",
   "name": "python3"
  },
  "language_info": {
   "codemirror_mode": {
    "name": "ipython",
    "version": 3
   },
   "file_extension": ".py",
   "mimetype": "text/x-python",
   "name": "python",
   "nbconvert_exporter": "python",
   "pygments_lexer": "ipython3",
   "version": "3.10.12"
  }
 },
 "nbformat": 4,
 "nbformat_minor": 5
}
